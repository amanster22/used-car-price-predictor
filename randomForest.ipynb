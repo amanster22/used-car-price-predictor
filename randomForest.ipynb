{
 "cells": [
  {
   "cell_type": "markdown",
   "metadata": {},
   "source": [
    "**Clean Data**"
   ]
  },
  {
   "cell_type": "code",
   "execution_count": 4,
   "metadata": {},
   "outputs": [
    {
     "data": {
      "text/plain": [
       "1898"
      ]
     },
     "execution_count": 4,
     "metadata": {},
     "output_type": "execute_result"
    }
   ],
   "source": [
    "import pandas as pd\n",
    "\n",
    "\n",
    "df = pd.read_csv('carData.csv')\n",
    "df.loc[df['fuel_type'].isnull() & df['engine'].str.contains('Electric Motor', case=False, na=False), 'fuel_type'] = 'Electric'\n",
    "\n",
    "df.loc[df['fuel_type'].isnull()].head()\n",
    "df.loc[df['fuel_type'].isnull() & (df['engine'].str.lower() == 'electric'), 'fuel_type'] = 'Electric'\n",
    "df.loc[df['fuel_type'].isnull() & (df['brand'].str.lower() == 'tesla'), 'fuel_type'] = 'Electric'\n",
    "df.loc[df['fuel_type'].isnull() & df['engine'].str.contains('battery', case=False, na=False), 'fuel_type'] = 'Electric'\n",
    "\n",
    "df['milage'] = df['milage'].str.replace(r'[^\\d]', '', regex=True).astype(int)\n",
    "df['price'] = df['price'].replace(r'[$,]', '', regex=True).astype(int)\n",
    "\n",
    "df['fuel_type'] = df['fuel_type'].replace('Plug-In Hybrid', 'Hybrid')\n",
    "df['clean_title'] = df['clean_title'].fillna('No')\n",
    "df['accident'] = df['accident'].fillna('Unknown')\n",
    "df.to_csv('cleaned_car_data.csv',index=False)\n",
    "\n",
    "df = pd.read_csv('cleaned_car_data.csv')\n",
    "df['model'].unique().shape[0]\n",
    "\n",
    "\n",
    "# df.head()"
   ]
  },
  {
   "cell_type": "code",
   "execution_count": 24,
   "metadata": {},
   "outputs": [
    {
     "data": {
      "application/vnd.plotly.v1+json": {
       "config": {
        "plotlyServerURL": "https://plot.ly"
       },
       "data": [
        {
         "name": "Car Count",
         "text": [
          3311,
          522,
          82,
          39,
          26,
          6,
          4,
          6,
          5,
          0,
          3,
          1,
          1,
          0,
          0,
          0,
          0,
          0,
          0,
          0,
          0,
          0,
          0,
          0,
          0,
          0,
          0,
          1,
          0,
          0,
          0,
          0,
          0,
          1,
          0,
          0,
          0,
          0,
          0,
          0,
          0,
          0,
          0,
          0,
          0,
          0,
          0,
          0,
          0,
          1
         ],
         "textposition": "outside",
         "type": "bar",
         "x": [
          31520.83,
          90562.49,
          149604.15000000002,
          208645.81,
          267687.47000000003,
          326729.13,
          385770.79000000004,
          444812.45,
          503854.11000000004,
          562895.77,
          621937.43,
          680979.0900000001,
          740020.75,
          799062.41,
          858104.0700000001,
          917145.73,
          976187.3900000001,
          1035229.05,
          1094270.71,
          1153312.37,
          1212354.0300000003,
          1271395.69,
          1330437.35,
          1389479.0100000002,
          1448520.67,
          1507562.33,
          1566603.9900000002,
          1625645.65,
          1684687.31,
          1743728.9700000002,
          1802770.6300000001,
          1861812.29,
          1920853.9500000002,
          1979895.61,
          2038937.27,
          2097978.93,
          2157020.59,
          2216062.25,
          2275103.91,
          2334145.5700000003,
          2393187.2300000004,
          2452228.89,
          2511270.5500000003,
          2570312.21,
          2629353.87,
          2688395.5300000003,
          2747437.1900000004,
          2806478.85,
          2865520.5100000002,
          2924562.17
         ],
         "y": [
          3311,
          522,
          82,
          39,
          26,
          6,
          4,
          6,
          5,
          0,
          3,
          1,
          1,
          0,
          0,
          0,
          0,
          0,
          0,
          0,
          0,
          0,
          0,
          0,
          0,
          0,
          0,
          1,
          0,
          0,
          0,
          0,
          0,
          1,
          0,
          0,
          0,
          0,
          0,
          0,
          0,
          0,
          0,
          0,
          0,
          0,
          0,
          0,
          0,
          1
         ]
        }
       ],
       "layout": {
        "annotations": [
         {
          "showarrow": false,
          "text": "Outlier Threshold ($250k)",
          "x": 250000,
          "xanchor": "left",
          "xref": "x",
          "y": 1,
          "yanchor": "top",
          "yref": "y domain"
         }
        ],
        "shapes": [
         {
          "line": {
           "color": "red",
           "dash": "dash",
           "width": 2
          },
          "type": "line",
          "x0": 250000,
          "x1": 250000,
          "xref": "x",
          "y0": 0,
          "y1": 1,
          "yref": "y domain"
         }
        ],
        "template": {
         "data": {
          "bar": [
           {
            "error_x": {
             "color": "#2a3f5f"
            },
            "error_y": {
             "color": "#2a3f5f"
            },
            "marker": {
             "line": {
              "color": "#E5ECF6",
              "width": 0.5
             },
             "pattern": {
              "fillmode": "overlay",
              "size": 10,
              "solidity": 0.2
             }
            },
            "type": "bar"
           }
          ],
          "barpolar": [
           {
            "marker": {
             "line": {
              "color": "#E5ECF6",
              "width": 0.5
             },
             "pattern": {
              "fillmode": "overlay",
              "size": 10,
              "solidity": 0.2
             }
            },
            "type": "barpolar"
           }
          ],
          "carpet": [
           {
            "aaxis": {
             "endlinecolor": "#2a3f5f",
             "gridcolor": "white",
             "linecolor": "white",
             "minorgridcolor": "white",
             "startlinecolor": "#2a3f5f"
            },
            "baxis": {
             "endlinecolor": "#2a3f5f",
             "gridcolor": "white",
             "linecolor": "white",
             "minorgridcolor": "white",
             "startlinecolor": "#2a3f5f"
            },
            "type": "carpet"
           }
          ],
          "choropleth": [
           {
            "colorbar": {
             "outlinewidth": 0,
             "ticks": ""
            },
            "type": "choropleth"
           }
          ],
          "contour": [
           {
            "colorbar": {
             "outlinewidth": 0,
             "ticks": ""
            },
            "colorscale": [
             [
              0,
              "#0d0887"
             ],
             [
              0.1111111111111111,
              "#46039f"
             ],
             [
              0.2222222222222222,
              "#7201a8"
             ],
             [
              0.3333333333333333,
              "#9c179e"
             ],
             [
              0.4444444444444444,
              "#bd3786"
             ],
             [
              0.5555555555555556,
              "#d8576b"
             ],
             [
              0.6666666666666666,
              "#ed7953"
             ],
             [
              0.7777777777777778,
              "#fb9f3a"
             ],
             [
              0.8888888888888888,
              "#fdca26"
             ],
             [
              1,
              "#f0f921"
             ]
            ],
            "type": "contour"
           }
          ],
          "contourcarpet": [
           {
            "colorbar": {
             "outlinewidth": 0,
             "ticks": ""
            },
            "type": "contourcarpet"
           }
          ],
          "heatmap": [
           {
            "colorbar": {
             "outlinewidth": 0,
             "ticks": ""
            },
            "colorscale": [
             [
              0,
              "#0d0887"
             ],
             [
              0.1111111111111111,
              "#46039f"
             ],
             [
              0.2222222222222222,
              "#7201a8"
             ],
             [
              0.3333333333333333,
              "#9c179e"
             ],
             [
              0.4444444444444444,
              "#bd3786"
             ],
             [
              0.5555555555555556,
              "#d8576b"
             ],
             [
              0.6666666666666666,
              "#ed7953"
             ],
             [
              0.7777777777777778,
              "#fb9f3a"
             ],
             [
              0.8888888888888888,
              "#fdca26"
             ],
             [
              1,
              "#f0f921"
             ]
            ],
            "type": "heatmap"
           }
          ],
          "heatmapgl": [
           {
            "colorbar": {
             "outlinewidth": 0,
             "ticks": ""
            },
            "colorscale": [
             [
              0,
              "#0d0887"
             ],
             [
              0.1111111111111111,
              "#46039f"
             ],
             [
              0.2222222222222222,
              "#7201a8"
             ],
             [
              0.3333333333333333,
              "#9c179e"
             ],
             [
              0.4444444444444444,
              "#bd3786"
             ],
             [
              0.5555555555555556,
              "#d8576b"
             ],
             [
              0.6666666666666666,
              "#ed7953"
             ],
             [
              0.7777777777777778,
              "#fb9f3a"
             ],
             [
              0.8888888888888888,
              "#fdca26"
             ],
             [
              1,
              "#f0f921"
             ]
            ],
            "type": "heatmapgl"
           }
          ],
          "histogram": [
           {
            "marker": {
             "pattern": {
              "fillmode": "overlay",
              "size": 10,
              "solidity": 0.2
             }
            },
            "type": "histogram"
           }
          ],
          "histogram2d": [
           {
            "colorbar": {
             "outlinewidth": 0,
             "ticks": ""
            },
            "colorscale": [
             [
              0,
              "#0d0887"
             ],
             [
              0.1111111111111111,
              "#46039f"
             ],
             [
              0.2222222222222222,
              "#7201a8"
             ],
             [
              0.3333333333333333,
              "#9c179e"
             ],
             [
              0.4444444444444444,
              "#bd3786"
             ],
             [
              0.5555555555555556,
              "#d8576b"
             ],
             [
              0.6666666666666666,
              "#ed7953"
             ],
             [
              0.7777777777777778,
              "#fb9f3a"
             ],
             [
              0.8888888888888888,
              "#fdca26"
             ],
             [
              1,
              "#f0f921"
             ]
            ],
            "type": "histogram2d"
           }
          ],
          "histogram2dcontour": [
           {
            "colorbar": {
             "outlinewidth": 0,
             "ticks": ""
            },
            "colorscale": [
             [
              0,
              "#0d0887"
             ],
             [
              0.1111111111111111,
              "#46039f"
             ],
             [
              0.2222222222222222,
              "#7201a8"
             ],
             [
              0.3333333333333333,
              "#9c179e"
             ],
             [
              0.4444444444444444,
              "#bd3786"
             ],
             [
              0.5555555555555556,
              "#d8576b"
             ],
             [
              0.6666666666666666,
              "#ed7953"
             ],
             [
              0.7777777777777778,
              "#fb9f3a"
             ],
             [
              0.8888888888888888,
              "#fdca26"
             ],
             [
              1,
              "#f0f921"
             ]
            ],
            "type": "histogram2dcontour"
           }
          ],
          "mesh3d": [
           {
            "colorbar": {
             "outlinewidth": 0,
             "ticks": ""
            },
            "type": "mesh3d"
           }
          ],
          "parcoords": [
           {
            "line": {
             "colorbar": {
              "outlinewidth": 0,
              "ticks": ""
             }
            },
            "type": "parcoords"
           }
          ],
          "pie": [
           {
            "automargin": true,
            "type": "pie"
           }
          ],
          "scatter": [
           {
            "fillpattern": {
             "fillmode": "overlay",
             "size": 10,
             "solidity": 0.2
            },
            "type": "scatter"
           }
          ],
          "scatter3d": [
           {
            "line": {
             "colorbar": {
              "outlinewidth": 0,
              "ticks": ""
             }
            },
            "marker": {
             "colorbar": {
              "outlinewidth": 0,
              "ticks": ""
             }
            },
            "type": "scatter3d"
           }
          ],
          "scattercarpet": [
           {
            "marker": {
             "colorbar": {
              "outlinewidth": 0,
              "ticks": ""
             }
            },
            "type": "scattercarpet"
           }
          ],
          "scattergeo": [
           {
            "marker": {
             "colorbar": {
              "outlinewidth": 0,
              "ticks": ""
             }
            },
            "type": "scattergeo"
           }
          ],
          "scattergl": [
           {
            "marker": {
             "colorbar": {
              "outlinewidth": 0,
              "ticks": ""
             }
            },
            "type": "scattergl"
           }
          ],
          "scattermapbox": [
           {
            "marker": {
             "colorbar": {
              "outlinewidth": 0,
              "ticks": ""
             }
            },
            "type": "scattermapbox"
           }
          ],
          "scatterpolar": [
           {
            "marker": {
             "colorbar": {
              "outlinewidth": 0,
              "ticks": ""
             }
            },
            "type": "scatterpolar"
           }
          ],
          "scatterpolargl": [
           {
            "marker": {
             "colorbar": {
              "outlinewidth": 0,
              "ticks": ""
             }
            },
            "type": "scatterpolargl"
           }
          ],
          "scatterternary": [
           {
            "marker": {
             "colorbar": {
              "outlinewidth": 0,
              "ticks": ""
             }
            },
            "type": "scatterternary"
           }
          ],
          "surface": [
           {
            "colorbar": {
             "outlinewidth": 0,
             "ticks": ""
            },
            "colorscale": [
             [
              0,
              "#0d0887"
             ],
             [
              0.1111111111111111,
              "#46039f"
             ],
             [
              0.2222222222222222,
              "#7201a8"
             ],
             [
              0.3333333333333333,
              "#9c179e"
             ],
             [
              0.4444444444444444,
              "#bd3786"
             ],
             [
              0.5555555555555556,
              "#d8576b"
             ],
             [
              0.6666666666666666,
              "#ed7953"
             ],
             [
              0.7777777777777778,
              "#fb9f3a"
             ],
             [
              0.8888888888888888,
              "#fdca26"
             ],
             [
              1,
              "#f0f921"
             ]
            ],
            "type": "surface"
           }
          ],
          "table": [
           {
            "cells": {
             "fill": {
              "color": "#EBF0F8"
             },
             "line": {
              "color": "white"
             }
            },
            "header": {
             "fill": {
              "color": "#C8D4E3"
             },
             "line": {
              "color": "white"
             }
            },
            "type": "table"
           }
          ]
         },
         "layout": {
          "annotationdefaults": {
           "arrowcolor": "#2a3f5f",
           "arrowhead": 0,
           "arrowwidth": 1
          },
          "autotypenumbers": "strict",
          "coloraxis": {
           "colorbar": {
            "outlinewidth": 0,
            "ticks": ""
           }
          },
          "colorscale": {
           "diverging": [
            [
             0,
             "#8e0152"
            ],
            [
             0.1,
             "#c51b7d"
            ],
            [
             0.2,
             "#de77ae"
            ],
            [
             0.3,
             "#f1b6da"
            ],
            [
             0.4,
             "#fde0ef"
            ],
            [
             0.5,
             "#f7f7f7"
            ],
            [
             0.6,
             "#e6f5d0"
            ],
            [
             0.7,
             "#b8e186"
            ],
            [
             0.8,
             "#7fbc41"
            ],
            [
             0.9,
             "#4d9221"
            ],
            [
             1,
             "#276419"
            ]
           ],
           "sequential": [
            [
             0,
             "#0d0887"
            ],
            [
             0.1111111111111111,
             "#46039f"
            ],
            [
             0.2222222222222222,
             "#7201a8"
            ],
            [
             0.3333333333333333,
             "#9c179e"
            ],
            [
             0.4444444444444444,
             "#bd3786"
            ],
            [
             0.5555555555555556,
             "#d8576b"
            ],
            [
             0.6666666666666666,
             "#ed7953"
            ],
            [
             0.7777777777777778,
             "#fb9f3a"
            ],
            [
             0.8888888888888888,
             "#fdca26"
            ],
            [
             1,
             "#f0f921"
            ]
           ],
           "sequentialminus": [
            [
             0,
             "#0d0887"
            ],
            [
             0.1111111111111111,
             "#46039f"
            ],
            [
             0.2222222222222222,
             "#7201a8"
            ],
            [
             0.3333333333333333,
             "#9c179e"
            ],
            [
             0.4444444444444444,
             "#bd3786"
            ],
            [
             0.5555555555555556,
             "#d8576b"
            ],
            [
             0.6666666666666666,
             "#ed7953"
            ],
            [
             0.7777777777777778,
             "#fb9f3a"
            ],
            [
             0.8888888888888888,
             "#fdca26"
            ],
            [
             1,
             "#f0f921"
            ]
           ]
          },
          "colorway": [
           "#636efa",
           "#EF553B",
           "#00cc96",
           "#ab63fa",
           "#FFA15A",
           "#19d3f3",
           "#FF6692",
           "#B6E880",
           "#FF97FF",
           "#FECB52"
          ],
          "font": {
           "color": "#2a3f5f"
          },
          "geo": {
           "bgcolor": "white",
           "lakecolor": "white",
           "landcolor": "#E5ECF6",
           "showlakes": true,
           "showland": true,
           "subunitcolor": "white"
          },
          "hoverlabel": {
           "align": "left"
          },
          "hovermode": "closest",
          "mapbox": {
           "style": "light"
          },
          "paper_bgcolor": "white",
          "plot_bgcolor": "#E5ECF6",
          "polar": {
           "angularaxis": {
            "gridcolor": "white",
            "linecolor": "white",
            "ticks": ""
           },
           "bgcolor": "#E5ECF6",
           "radialaxis": {
            "gridcolor": "white",
            "linecolor": "white",
            "ticks": ""
           }
          },
          "scene": {
           "xaxis": {
            "backgroundcolor": "#E5ECF6",
            "gridcolor": "white",
            "gridwidth": 2,
            "linecolor": "white",
            "showbackground": true,
            "ticks": "",
            "zerolinecolor": "white"
           },
           "yaxis": {
            "backgroundcolor": "#E5ECF6",
            "gridcolor": "white",
            "gridwidth": 2,
            "linecolor": "white",
            "showbackground": true,
            "ticks": "",
            "zerolinecolor": "white"
           },
           "zaxis": {
            "backgroundcolor": "#E5ECF6",
            "gridcolor": "white",
            "gridwidth": 2,
            "linecolor": "white",
            "showbackground": true,
            "ticks": "",
            "zerolinecolor": "white"
           }
          },
          "shapedefaults": {
           "line": {
            "color": "#2a3f5f"
           }
          },
          "ternary": {
           "aaxis": {
            "gridcolor": "white",
            "linecolor": "white",
            "ticks": ""
           },
           "baxis": {
            "gridcolor": "white",
            "linecolor": "white",
            "ticks": ""
           },
           "bgcolor": "#E5ECF6",
           "caxis": {
            "gridcolor": "white",
            "linecolor": "white",
            "ticks": ""
           }
          },
          "title": {
           "x": 0.05
          },
          "xaxis": {
           "automargin": true,
           "gridcolor": "white",
           "linecolor": "white",
           "ticks": "",
           "title": {
            "standoff": 15
           },
           "zerolinecolor": "white",
           "zerolinewidth": 2
          },
          "yaxis": {
           "automargin": true,
           "gridcolor": "white",
           "linecolor": "white",
           "ticks": "",
           "title": {
            "standoff": 15
           },
           "zerolinecolor": "white",
           "zerolinewidth": 2
          }
         }
        },
        "title": {
         "text": "Car Price Distribution"
        },
        "xaxis": {
         "title": {
          "text": "Price ($)"
         }
        },
        "yaxis": {
         "ticktext": [
          "1",
          "10",
          "100",
          "1k",
          "10k"
         ],
         "tickvals": [
          1,
          10,
          100,
          1000,
          10000
         ],
         "title": {
          "text": "Count (Log Scale)"
         },
         "type": "log"
        }
       }
      }
     },
     "metadata": {},
     "output_type": "display_data"
    }
   ],
   "source": [
    "import pandas as pd\n",
    "import plotly.express as px\n",
    "\n",
    "\n",
    "df = pd.read_csv('cleaned_car_data.csv')\n",
    "import pandas as pd\n",
    "import numpy as np\n",
    "import plotly.graph_objects as go\n",
    "\n",
    "# Load data\n",
    "df = pd.read_csv('cleaned_car_data.csv')\n",
    "\n",
    "# Create histogram bins\n",
    "counts, bins = np.histogram(df['price'], bins=50)\n",
    "bin_centers = 0.5 * (bins[:-1] + bins[1:])\n",
    "\n",
    "# Create bar chart with text labels\n",
    "fig = go.Figure(data=[\n",
    "    go.Bar(\n",
    "        x=bin_centers,\n",
    "        y=counts,\n",
    "        text=counts,\n",
    "        textposition='outside',\n",
    "        name='Car Count'\n",
    "    )\n",
    "])\n",
    "\n",
    "# Add vertical line at $250,000\n",
    "fig.add_vline(\n",
    "    x=250000,\n",
    "    line_color='red',\n",
    "    line_dash='dash',\n",
    "    line_width=2,\n",
    "    annotation_text='Outlier Threshold ($250k)',\n",
    "    annotation_position='top right'\n",
    ")\n",
    "\n",
    "# Update layout for log scale and tick labels\n",
    "fig.update_layout(\n",
    "    title='Car Price Distribution',\n",
    "    xaxis_title='Price ($)',\n",
    "    yaxis_title='Count (Log Scale)',\n",
    "    yaxis_type='log',\n",
    "    yaxis=dict(\n",
    "        tickvals=[1, 10, 100, 1000, 10000],\n",
    "        ticktext=['1', '10', '100', '1k', '10k']\n",
    "    )\n",
    ")\n",
    "\n",
    "fig.show()\n",
    "\n",
    "\n",
    "\n",
    "\n",
    "# print(df['price'].shape[0])\n",
    "# print(df[df['price']>250000].shape[0])\n"
   ]
  },
  {
   "cell_type": "code",
   "execution_count": 29,
   "metadata": {},
   "outputs": [
    {
     "data": {
      "application/vnd.plotly.v1+json": {
       "config": {
        "plotlyServerURL": "https://plot.ly"
       },
       "data": [
        {
         "customdata": [
          [
           "≤ $250k"
          ],
          [
           "> $250k"
          ]
         ],
         "domain": {
          "x": [
           0,
           1
          ],
          "y": [
           0,
           1
          ]
         },
         "hovertemplate": "Category=%{customdata[0]}<br>Count=%{value}<extra></extra>",
         "labels": [
          "≤ $250k",
          "> $250k"
         ],
         "legendgroup": "",
         "marker": {
          "colors": [
           "lightblue",
           "red"
          ]
         },
         "name": "",
         "showlegend": true,
         "textfont": {
          "size": 15
         },
         "textinfo": "label+percent+value",
         "type": "pie",
         "values": [
          3961,
          48
         ]
        }
       ],
       "layout": {
        "height": 600,
        "legend": {
         "tracegroupgap": 0
        },
        "template": {
         "data": {
          "bar": [
           {
            "error_x": {
             "color": "#2a3f5f"
            },
            "error_y": {
             "color": "#2a3f5f"
            },
            "marker": {
             "line": {
              "color": "#E5ECF6",
              "width": 0.5
             },
             "pattern": {
              "fillmode": "overlay",
              "size": 10,
              "solidity": 0.2
             }
            },
            "type": "bar"
           }
          ],
          "barpolar": [
           {
            "marker": {
             "line": {
              "color": "#E5ECF6",
              "width": 0.5
             },
             "pattern": {
              "fillmode": "overlay",
              "size": 10,
              "solidity": 0.2
             }
            },
            "type": "barpolar"
           }
          ],
          "carpet": [
           {
            "aaxis": {
             "endlinecolor": "#2a3f5f",
             "gridcolor": "white",
             "linecolor": "white",
             "minorgridcolor": "white",
             "startlinecolor": "#2a3f5f"
            },
            "baxis": {
             "endlinecolor": "#2a3f5f",
             "gridcolor": "white",
             "linecolor": "white",
             "minorgridcolor": "white",
             "startlinecolor": "#2a3f5f"
            },
            "type": "carpet"
           }
          ],
          "choropleth": [
           {
            "colorbar": {
             "outlinewidth": 0,
             "ticks": ""
            },
            "type": "choropleth"
           }
          ],
          "contour": [
           {
            "colorbar": {
             "outlinewidth": 0,
             "ticks": ""
            },
            "colorscale": [
             [
              0,
              "#0d0887"
             ],
             [
              0.1111111111111111,
              "#46039f"
             ],
             [
              0.2222222222222222,
              "#7201a8"
             ],
             [
              0.3333333333333333,
              "#9c179e"
             ],
             [
              0.4444444444444444,
              "#bd3786"
             ],
             [
              0.5555555555555556,
              "#d8576b"
             ],
             [
              0.6666666666666666,
              "#ed7953"
             ],
             [
              0.7777777777777778,
              "#fb9f3a"
             ],
             [
              0.8888888888888888,
              "#fdca26"
             ],
             [
              1,
              "#f0f921"
             ]
            ],
            "type": "contour"
           }
          ],
          "contourcarpet": [
           {
            "colorbar": {
             "outlinewidth": 0,
             "ticks": ""
            },
            "type": "contourcarpet"
           }
          ],
          "heatmap": [
           {
            "colorbar": {
             "outlinewidth": 0,
             "ticks": ""
            },
            "colorscale": [
             [
              0,
              "#0d0887"
             ],
             [
              0.1111111111111111,
              "#46039f"
             ],
             [
              0.2222222222222222,
              "#7201a8"
             ],
             [
              0.3333333333333333,
              "#9c179e"
             ],
             [
              0.4444444444444444,
              "#bd3786"
             ],
             [
              0.5555555555555556,
              "#d8576b"
             ],
             [
              0.6666666666666666,
              "#ed7953"
             ],
             [
              0.7777777777777778,
              "#fb9f3a"
             ],
             [
              0.8888888888888888,
              "#fdca26"
             ],
             [
              1,
              "#f0f921"
             ]
            ],
            "type": "heatmap"
           }
          ],
          "heatmapgl": [
           {
            "colorbar": {
             "outlinewidth": 0,
             "ticks": ""
            },
            "colorscale": [
             [
              0,
              "#0d0887"
             ],
             [
              0.1111111111111111,
              "#46039f"
             ],
             [
              0.2222222222222222,
              "#7201a8"
             ],
             [
              0.3333333333333333,
              "#9c179e"
             ],
             [
              0.4444444444444444,
              "#bd3786"
             ],
             [
              0.5555555555555556,
              "#d8576b"
             ],
             [
              0.6666666666666666,
              "#ed7953"
             ],
             [
              0.7777777777777778,
              "#fb9f3a"
             ],
             [
              0.8888888888888888,
              "#fdca26"
             ],
             [
              1,
              "#f0f921"
             ]
            ],
            "type": "heatmapgl"
           }
          ],
          "histogram": [
           {
            "marker": {
             "pattern": {
              "fillmode": "overlay",
              "size": 10,
              "solidity": 0.2
             }
            },
            "type": "histogram"
           }
          ],
          "histogram2d": [
           {
            "colorbar": {
             "outlinewidth": 0,
             "ticks": ""
            },
            "colorscale": [
             [
              0,
              "#0d0887"
             ],
             [
              0.1111111111111111,
              "#46039f"
             ],
             [
              0.2222222222222222,
              "#7201a8"
             ],
             [
              0.3333333333333333,
              "#9c179e"
             ],
             [
              0.4444444444444444,
              "#bd3786"
             ],
             [
              0.5555555555555556,
              "#d8576b"
             ],
             [
              0.6666666666666666,
              "#ed7953"
             ],
             [
              0.7777777777777778,
              "#fb9f3a"
             ],
             [
              0.8888888888888888,
              "#fdca26"
             ],
             [
              1,
              "#f0f921"
             ]
            ],
            "type": "histogram2d"
           }
          ],
          "histogram2dcontour": [
           {
            "colorbar": {
             "outlinewidth": 0,
             "ticks": ""
            },
            "colorscale": [
             [
              0,
              "#0d0887"
             ],
             [
              0.1111111111111111,
              "#46039f"
             ],
             [
              0.2222222222222222,
              "#7201a8"
             ],
             [
              0.3333333333333333,
              "#9c179e"
             ],
             [
              0.4444444444444444,
              "#bd3786"
             ],
             [
              0.5555555555555556,
              "#d8576b"
             ],
             [
              0.6666666666666666,
              "#ed7953"
             ],
             [
              0.7777777777777778,
              "#fb9f3a"
             ],
             [
              0.8888888888888888,
              "#fdca26"
             ],
             [
              1,
              "#f0f921"
             ]
            ],
            "type": "histogram2dcontour"
           }
          ],
          "mesh3d": [
           {
            "colorbar": {
             "outlinewidth": 0,
             "ticks": ""
            },
            "type": "mesh3d"
           }
          ],
          "parcoords": [
           {
            "line": {
             "colorbar": {
              "outlinewidth": 0,
              "ticks": ""
             }
            },
            "type": "parcoords"
           }
          ],
          "pie": [
           {
            "automargin": true,
            "type": "pie"
           }
          ],
          "scatter": [
           {
            "fillpattern": {
             "fillmode": "overlay",
             "size": 10,
             "solidity": 0.2
            },
            "type": "scatter"
           }
          ],
          "scatter3d": [
           {
            "line": {
             "colorbar": {
              "outlinewidth": 0,
              "ticks": ""
             }
            },
            "marker": {
             "colorbar": {
              "outlinewidth": 0,
              "ticks": ""
             }
            },
            "type": "scatter3d"
           }
          ],
          "scattercarpet": [
           {
            "marker": {
             "colorbar": {
              "outlinewidth": 0,
              "ticks": ""
             }
            },
            "type": "scattercarpet"
           }
          ],
          "scattergeo": [
           {
            "marker": {
             "colorbar": {
              "outlinewidth": 0,
              "ticks": ""
             }
            },
            "type": "scattergeo"
           }
          ],
          "scattergl": [
           {
            "marker": {
             "colorbar": {
              "outlinewidth": 0,
              "ticks": ""
             }
            },
            "type": "scattergl"
           }
          ],
          "scattermapbox": [
           {
            "marker": {
             "colorbar": {
              "outlinewidth": 0,
              "ticks": ""
             }
            },
            "type": "scattermapbox"
           }
          ],
          "scatterpolar": [
           {
            "marker": {
             "colorbar": {
              "outlinewidth": 0,
              "ticks": ""
             }
            },
            "type": "scatterpolar"
           }
          ],
          "scatterpolargl": [
           {
            "marker": {
             "colorbar": {
              "outlinewidth": 0,
              "ticks": ""
             }
            },
            "type": "scatterpolargl"
           }
          ],
          "scatterternary": [
           {
            "marker": {
             "colorbar": {
              "outlinewidth": 0,
              "ticks": ""
             }
            },
            "type": "scatterternary"
           }
          ],
          "surface": [
           {
            "colorbar": {
             "outlinewidth": 0,
             "ticks": ""
            },
            "colorscale": [
             [
              0,
              "#0d0887"
             ],
             [
              0.1111111111111111,
              "#46039f"
             ],
             [
              0.2222222222222222,
              "#7201a8"
             ],
             [
              0.3333333333333333,
              "#9c179e"
             ],
             [
              0.4444444444444444,
              "#bd3786"
             ],
             [
              0.5555555555555556,
              "#d8576b"
             ],
             [
              0.6666666666666666,
              "#ed7953"
             ],
             [
              0.7777777777777778,
              "#fb9f3a"
             ],
             [
              0.8888888888888888,
              "#fdca26"
             ],
             [
              1,
              "#f0f921"
             ]
            ],
            "type": "surface"
           }
          ],
          "table": [
           {
            "cells": {
             "fill": {
              "color": "#EBF0F8"
             },
             "line": {
              "color": "white"
             }
            },
            "header": {
             "fill": {
              "color": "#C8D4E3"
             },
             "line": {
              "color": "white"
             }
            },
            "type": "table"
           }
          ]
         },
         "layout": {
          "annotationdefaults": {
           "arrowcolor": "#2a3f5f",
           "arrowhead": 0,
           "arrowwidth": 1
          },
          "autotypenumbers": "strict",
          "coloraxis": {
           "colorbar": {
            "outlinewidth": 0,
            "ticks": ""
           }
          },
          "colorscale": {
           "diverging": [
            [
             0,
             "#8e0152"
            ],
            [
             0.1,
             "#c51b7d"
            ],
            [
             0.2,
             "#de77ae"
            ],
            [
             0.3,
             "#f1b6da"
            ],
            [
             0.4,
             "#fde0ef"
            ],
            [
             0.5,
             "#f7f7f7"
            ],
            [
             0.6,
             "#e6f5d0"
            ],
            [
             0.7,
             "#b8e186"
            ],
            [
             0.8,
             "#7fbc41"
            ],
            [
             0.9,
             "#4d9221"
            ],
            [
             1,
             "#276419"
            ]
           ],
           "sequential": [
            [
             0,
             "#0d0887"
            ],
            [
             0.1111111111111111,
             "#46039f"
            ],
            [
             0.2222222222222222,
             "#7201a8"
            ],
            [
             0.3333333333333333,
             "#9c179e"
            ],
            [
             0.4444444444444444,
             "#bd3786"
            ],
            [
             0.5555555555555556,
             "#d8576b"
            ],
            [
             0.6666666666666666,
             "#ed7953"
            ],
            [
             0.7777777777777778,
             "#fb9f3a"
            ],
            [
             0.8888888888888888,
             "#fdca26"
            ],
            [
             1,
             "#f0f921"
            ]
           ],
           "sequentialminus": [
            [
             0,
             "#0d0887"
            ],
            [
             0.1111111111111111,
             "#46039f"
            ],
            [
             0.2222222222222222,
             "#7201a8"
            ],
            [
             0.3333333333333333,
             "#9c179e"
            ],
            [
             0.4444444444444444,
             "#bd3786"
            ],
            [
             0.5555555555555556,
             "#d8576b"
            ],
            [
             0.6666666666666666,
             "#ed7953"
            ],
            [
             0.7777777777777778,
             "#fb9f3a"
            ],
            [
             0.8888888888888888,
             "#fdca26"
            ],
            [
             1,
             "#f0f921"
            ]
           ]
          },
          "colorway": [
           "#636efa",
           "#EF553B",
           "#00cc96",
           "#ab63fa",
           "#FFA15A",
           "#19d3f3",
           "#FF6692",
           "#B6E880",
           "#FF97FF",
           "#FECB52"
          ],
          "font": {
           "color": "#2a3f5f"
          },
          "geo": {
           "bgcolor": "white",
           "lakecolor": "white",
           "landcolor": "#E5ECF6",
           "showlakes": true,
           "showland": true,
           "subunitcolor": "white"
          },
          "hoverlabel": {
           "align": "left"
          },
          "hovermode": "closest",
          "mapbox": {
           "style": "light"
          },
          "paper_bgcolor": "white",
          "plot_bgcolor": "#E5ECF6",
          "polar": {
           "angularaxis": {
            "gridcolor": "white",
            "linecolor": "white",
            "ticks": ""
           },
           "bgcolor": "#E5ECF6",
           "radialaxis": {
            "gridcolor": "white",
            "linecolor": "white",
            "ticks": ""
           }
          },
          "scene": {
           "xaxis": {
            "backgroundcolor": "#E5ECF6",
            "gridcolor": "white",
            "gridwidth": 2,
            "linecolor": "white",
            "showbackground": true,
            "ticks": "",
            "zerolinecolor": "white"
           },
           "yaxis": {
            "backgroundcolor": "#E5ECF6",
            "gridcolor": "white",
            "gridwidth": 2,
            "linecolor": "white",
            "showbackground": true,
            "ticks": "",
            "zerolinecolor": "white"
           },
           "zaxis": {
            "backgroundcolor": "#E5ECF6",
            "gridcolor": "white",
            "gridwidth": 2,
            "linecolor": "white",
            "showbackground": true,
            "ticks": "",
            "zerolinecolor": "white"
           }
          },
          "shapedefaults": {
           "line": {
            "color": "#2a3f5f"
           }
          },
          "ternary": {
           "aaxis": {
            "gridcolor": "white",
            "linecolor": "white",
            "ticks": ""
           },
           "baxis": {
            "gridcolor": "white",
            "linecolor": "white",
            "ticks": ""
           },
           "bgcolor": "#E5ECF6",
           "caxis": {
            "gridcolor": "white",
            "linecolor": "white",
            "ticks": ""
           }
          },
          "title": {
           "x": 0.05
          },
          "xaxis": {
           "automargin": true,
           "gridcolor": "white",
           "linecolor": "white",
           "ticks": "",
           "title": {
            "standoff": 15
           },
           "zerolinecolor": "white",
           "zerolinewidth": 2
          },
          "yaxis": {
           "automargin": true,
           "gridcolor": "white",
           "linecolor": "white",
           "ticks": "",
           "title": {
            "standoff": 15
           },
           "zerolinecolor": "white",
           "zerolinewidth": 2
          }
         }
        },
        "title": {
         "font": {
          "size": 24
         },
         "text": "Proportion of Cars by Price Category"
        },
        "width": 600
       }
      }
     },
     "metadata": {},
     "output_type": "display_data"
    }
   ],
   "source": [
    "df = pd.read_csv('cleaned_car_data.csv')\n",
    "\n",
    "# Create price category\n",
    "df['Price Category'] = df['price'].apply(lambda x: '≤ $250k' if x <= 250000 else '> $250k')\n",
    "\n",
    "# Count category occurrences\n",
    "price_counts = df['Price Category'].value_counts().reset_index()\n",
    "price_counts.columns = ['Category', 'Count']\n",
    "\n",
    "fig = px.pie(\n",
    "    price_counts,\n",
    "    names='Category',\n",
    "    values='Count',\n",
    "    title='Proportion of Cars by Price Category',\n",
    "    color='Category',\n",
    "    color_discrete_map={\n",
    "        '≤ $250k': 'lightblue',\n",
    "        '> $250k': 'red'\n",
    "    }\n",
    ")\n",
    "\n",
    "# Bigger label and percent text\n",
    "fig.update_traces(\n",
    "    textinfo='label+percent+value',\n",
    "    textfont_size=15  # Increase this for larger text\n",
    ")\n",
    "\n",
    "# Bigger title and layout\n",
    "fig.update_layout(\n",
    "    title_font_size=24,\n",
    "    width=600,\n",
    "    height=600\n",
    ")\n",
    "\n",
    "fig.show()\n"
   ]
  },
  {
   "cell_type": "code",
   "execution_count": 6,
   "metadata": {},
   "outputs": [],
   "source": [
    "import pandas as pd\n",
    "import re\n",
    "import numpy as np\n",
    "\n",
    "df = pd.read_csv('cleaned_car_data.csv')\n",
    "\n",
    "df.nunique()\n",
    "\n",
    "df.head()\n",
    "\n",
    "\n",
    "\n",
    "def extract_hp(engine_str):\n",
    "    match = re.search(r'(\\d+(?:\\.\\d+)?)\\s*hp', str(engine_str).lower())  # handles float like 211.0\n",
    "    if match:\n",
    "        return float(match.group(1))\n",
    "    return np.nan\n",
    "\n",
    "df['HP'] = df['engine'].apply(extract_hp)\n",
    "\n",
    "df['HP'] = df['engine'].apply(extract_hp)\n",
    "\n",
    "df['HP'].head()\n",
    "df.to_csv('test.csv')\n"
   ]
  },
  {
   "cell_type": "markdown",
   "metadata": {},
   "source": [
    "**Split Data**"
   ]
  },
  {
   "cell_type": "code",
   "execution_count": 19,
   "metadata": {},
   "outputs": [
    {
     "name": "stderr",
     "output_type": "stream",
     "text": [
      "C:\\Users\\amans\\AppData\\Local\\Temp\\ipykernel_2960\\1592262394.py:29: FutureWarning:\n",
      "\n",
      "A value is trying to be set on a copy of a DataFrame or Series through chained assignment using an inplace method.\n",
      "The behavior will change in pandas 3.0. This inplace method will never work because the intermediate object on which we are setting values always behaves as a copy.\n",
      "\n",
      "For example, when doing 'df[col].method(value, inplace=True)', try using 'df.method({col: value}, inplace=True)' or df[col] = df[col].method(value) instead, to perform the operation inplace on the original object.\n",
      "\n",
      "\n",
      "\n"
     ]
    },
    {
     "name": "stdout",
     "output_type": "stream",
     "text": [
      "Root Mean Squared Error: 9207.52\n",
      "Mean Absolute Error: 4792.89\n",
      "R^2 Score: 0.9308\n"
     ]
    }
   ],
   "source": [
    "import pandas as pd\n",
    "import numpy as np\n",
    "import re\n",
    "from sklearn.model_selection import train_test_split\n",
    "from sklearn.metrics import mean_squared_error, mean_absolute_error, r2_score\n",
    "from sklearn.ensemble import RandomForestRegressor\n",
    "\n",
    "# 1. Load the dataset\n",
    "df = pd.read_csv('cleaned_car_data.csv')\n",
    "df = df[df['price'] < 250000]  # Remove extreme outliers\n",
    "\n",
    "# 2. Convert 'clean_title' to binary\n",
    "df['clean_title'] = df['clean_title'].map({'Yes': 1, 'No': 0}).astype(int)\n",
    "\n",
    "# 3. Target encode high-cardinality text features\n",
    "df['brand_encoded'] = df.groupby('brand')['price'].transform('mean')\n",
    "df['model_encoded'] = df.groupby('model')['price'].transform('mean')\n",
    "df['engine_encoded'] = df.groupby('engine')['price'].transform('mean')\n",
    "df['transmission_encoded'] = df.groupby('transmission')['price'].transform('mean')\n",
    "\n",
    "# 4. Extract HP from engine string\n",
    "def extract_hp(engine_str):\n",
    "    match = re.search(r'(\\d+(?:\\.\\d+)?)\\s*hp', str(engine_str).lower())\n",
    "    if match:\n",
    "        return float(match.group(1))\n",
    "    return np.nan\n",
    "\n",
    "df['HP'] = df['engine'].apply(extract_hp)\n",
    "df['HP'].fillna(df['HP'].median(), inplace=True)  # Fill missing HP values with median\n",
    "\n",
    "# 5. Bin 'milage' to reduce noise\n",
    "df['milage_binned'] = pd.qcut(df['milage'], q=10, labels=False)\n",
    "\n",
    "# 6. Define feature groups\n",
    "numerical_features = ['model_year', 'milage_binned', 'HP']  # Added HP here\n",
    "binary_features = ['clean_title']\n",
    "target_encoded_features = ['brand_encoded', 'model_encoded', 'engine_encoded', 'transmission_encoded']\n",
    "categorical_features = ['fuel_type', 'ext_col', 'int_col', 'accident']\n",
    "\n",
    "# 7. One-hot encode remaining low-cardinality categorical features\n",
    "df_encoded = pd.get_dummies(df[categorical_features], drop_first=True)\n",
    "\n",
    "# 8. Combine features into X\n",
    "X = pd.concat([df[numerical_features + binary_features + target_encoded_features], df_encoded], axis=1)\n",
    "y = df['price']\n",
    "\n",
    "# 9. Train-test split\n",
    "X_train, X_test, y_train, y_test = train_test_split(X, y, test_size=0.2, random_state=0)\n",
    "\n",
    "# 10. Train RandomForestRegressor\n",
    "model = RandomForestRegressor(\n",
    "    n_estimators=200,\n",
    "    max_depth=15,\n",
    "    min_samples_split=5,\n",
    "    min_samples_leaf=2,\n",
    "    random_state=0,\n",
    "    n_jobs=-1\n",
    ")\n",
    "model.fit(X_train, y_train)\n",
    "\n",
    "# 11. Evaluate model\n",
    "y_pred = model.predict(X_test)\n",
    "mse = mean_squared_error(y_test, y_pred)\n",
    "mae = mean_absolute_error(y_test, y_pred)\n",
    "r2 = r2_score(y_test, y_pred)\n",
    "\n",
    "print(f\"Root Mean Squared Error: {np.sqrt(mse):.2f}\")\n",
    "print(f\"Mean Absolute Error: {mae:.2f}\")\n",
    "print(f\"R^2 Score: {r2:.4f}\")\n",
    "\n",
    "# 12. Feature importances\n",
    "importances = model.feature_importances_\n",
    "feature_importance_df = pd.DataFrame({\n",
    "    'Feature': X.columns,\n",
    "    'Importance': importances\n",
    "}).sort_values(by='Importance', ascending=False)\n",
    "feature_importance_df.to_csv('feature_importance.csv', index=False)\n",
    "\n",
    "# 13. Save predictions with errors\n",
    "X_test_copy = X_test.copy()\n",
    "X_test_copy['predicted_price'] = y_pred\n",
    "X_test_copy['actual_price'] = y_test.values\n",
    "X_test_copy['pct_error'] = ((X_test_copy['predicted_price'] - X_test_copy['actual_price']) / X_test_copy['actual_price']) * 100\n",
    "X_test_copy['abs_pct_error'] = X_test_copy['pct_error'].abs()\n",
    "X_test_copy.to_csv('test_predictions_with_errors.csv', index=False)\n",
    "\n",
    "# Root Mean Squared Error: 16370.49\n",
    "# Mean Absolute Error: 5440.66\n",
    "# R^2 Score: 0.8656\n"
   ]
  },
  {
   "cell_type": "code",
   "execution_count": 17,
   "metadata": {},
   "outputs": [
    {
     "data": {
      "application/vnd.plotly.v1+json": {
       "config": {
        "plotlyServerURL": "https://plot.ly"
       },
       "data": [
        {
         "hovertemplate": "<b>%{hovertext}</b><br><br>Actual Price ($)=%{x}<br>Predicted Price ($)=%{y}<extra></extra>",
         "hovertext": [
          "Ford",
          "Dodge",
          "Dodge",
          "Audi",
          "Porsche",
          "Nissan",
          "Mitsubishi",
          "Toyota",
          "Chrysler",
          "Lexus",
          "Land",
          "Maserati",
          "Dodge",
          "RAM",
          "Ford",
          "Mazda",
          "Volkswagen",
          "Ford",
          "Land",
          "Lexus",
          "Porsche",
          "Mercedes-Benz",
          "GMC",
          "Cadillac",
          "Bentley",
          "Jeep",
          "Acura",
          "Bentley",
          "Chevrolet",
          "Jeep",
          "Lexus",
          "Dodge",
          "Jeep",
          "Cadillac",
          "Mazda",
          "Bentley",
          "Lotus",
          "BMW",
          "Ford",
          "Dodge",
          "Hyundai",
          "Toyota",
          "Mercedes-Benz",
          "RAM",
          "Audi",
          "Lexus",
          "Chevrolet",
          "Land",
          "Chevrolet",
          "Pontiac",
          "BMW",
          "Subaru",
          "BMW",
          "RAM",
          "INFINITI",
          "Audi",
          "Lincoln",
          "Dodge",
          "BMW",
          "Ford",
          "BMW",
          "Ford",
          "Audi",
          "Chevrolet",
          "Acura",
          "Tesla",
          "Ford",
          "Buick",
          "GMC",
          "Genesis",
          "Chevrolet",
          "Tesla",
          "Lincoln",
          "Ford",
          "Porsche",
          "Mazda",
          "Porsche",
          "Volkswagen",
          "Ford",
          "Tesla",
          "Toyota",
          "Kia",
          "Tesla",
          "Jeep",
          "Audi",
          "Mercedes-Benz",
          "RAM",
          "Kia",
          "Lincoln",
          "Audi",
          "Tesla",
          "Porsche",
          "Honda",
          "Honda",
          "Kia",
          "Land",
          "Jeep",
          "Cadillac",
          "Toyota",
          "Chevrolet",
          "Land",
          "Maybach",
          "Mercedes-Benz",
          "Jeep",
          "Scion",
          "Chevrolet",
          "Jeep",
          "Land",
          "Lexus",
          "Karma",
          "Audi",
          "Buick",
          "Toyota",
          "Mercedes-Benz",
          "Ford",
          "Lexus",
          "Porsche",
          "Hyundai",
          "RAM",
          "BMW",
          "BMW",
          "INFINITI",
          "Toyota",
          "Mitsubishi",
          "Nissan",
          "Mercedes-Benz",
          "Pontiac",
          "Chrysler",
          "BMW",
          "Chevrolet",
          "Jeep",
          "BMW",
          "Porsche",
          "Audi",
          "Mercedes-Benz",
          "Mercedes-Benz",
          "Porsche",
          "BMW",
          "Dodge",
          "Ferrari",
          "Porsche",
          "Cadillac",
          "RAM",
          "BMW",
          "Hyundai",
          "Kia",
          "Acura",
          "Hyundai",
          "Ford",
          "Mercedes-Benz",
          "Subaru",
          "Porsche",
          "Porsche",
          "Audi",
          "Lexus",
          "Chrysler",
          "Audi",
          "Audi",
          "Mercedes-Benz",
          "INFINITI",
          "Mercedes-Benz",
          "BMW",
          "Ferrari",
          "Ford",
          "Chevrolet",
          "Lexus",
          "Volvo",
          "Mercedes-Benz",
          "Tesla",
          "BMW",
          "Mercedes-Benz",
          "Ford",
          "Cadillac",
          "Dodge",
          "Audi",
          "BMW",
          "Cadillac",
          "Ford",
          "Kia",
          "Jeep",
          "Tesla",
          "Nissan",
          "Mercedes-Benz",
          "Tesla",
          "BMW",
          "Ford",
          "Ford",
          "Hyundai",
          "Ford",
          "Aston",
          "Mercedes-Benz",
          "Mercedes-Benz",
          "Buick",
          "Chevrolet",
          "Hyundai",
          "Audi",
          "Chevrolet",
          "Dodge",
          "Ford",
          "Porsche",
          "Ford",
          "GMC",
          "Kia",
          "Ford",
          "Pontiac",
          "Honda",
          "Honda",
          "Dodge",
          "Porsche",
          "Acura",
          "Lincoln",
          "Nissan",
          "Toyota",
          "Lexus",
          "Karma",
          "Land",
          "GMC",
          "Jeep",
          "Land",
          "Nissan",
          "Cadillac",
          "Audi",
          "Mitsubishi",
          "Lexus",
          "Hyundai",
          "Jeep",
          "Audi",
          "Chevrolet",
          "Maserati",
          "Aston",
          "Lexus",
          "Toyota",
          "Chevrolet",
          "Lexus",
          "Ford",
          "Audi",
          "Nissan",
          "Audi",
          "Toyota",
          "FIAT",
          "Chevrolet",
          "Ford",
          "BMW",
          "Chevrolet",
          "BMW",
          "Toyota",
          "Tesla",
          "Dodge",
          "Chevrolet",
          "Nissan",
          "Ford",
          "Rolls-Royce",
          "Chevrolet",
          "BMW",
          "Mercedes-Benz",
          "Lexus",
          "GMC",
          "Acura",
          "Toyota",
          "Mazda",
          "Acura",
          "Mercedes-Benz",
          "Kia",
          "Honda",
          "BMW",
          "BMW",
          "MINI",
          "Maserati",
          "Cadillac",
          "Mitsubishi",
          "Jaguar",
          "Ford",
          "Porsche",
          "Audi",
          "Cadillac",
          "Chevrolet",
          "Honda",
          "Land",
          "Chevrolet",
          "Mercedes-Benz",
          "Lexus",
          "Chevrolet",
          "Audi",
          "Ford",
          "BMW",
          "Mercedes-Benz",
          "Toyota",
          "BMW",
          "Audi",
          "Toyota",
          "Maserati",
          "Acura",
          "RAM",
          "BMW",
          "Mercedes-Benz",
          "Ford",
          "Lexus",
          "Land",
          "Lincoln",
          "Cadillac",
          "Bentley",
          "Mercedes-Benz",
          "BMW",
          "Jaguar",
          "Volkswagen",
          "RAM",
          "Ford",
          "Jaguar",
          "BMW",
          "Maserati",
          "BMW",
          "Mercedes-Benz",
          "Audi",
          "Jaguar",
          "Volkswagen",
          "BMW",
          "Audi",
          "Mazda",
          "Lamborghini",
          "Hyundai",
          "Lamborghini",
          "Mercedes-Benz",
          "Mercedes-Benz",
          "Porsche",
          "Rivian",
          "Jeep",
          "Chevrolet",
          "Lexus",
          "BMW",
          "Chevrolet",
          "Chevrolet",
          "Volkswagen",
          "MINI",
          "Toyota",
          "MINI",
          "Mercedes-Benz",
          "Toyota",
          "BMW",
          "BMW",
          "Dodge",
          "BMW",
          "Toyota",
          "Toyota",
          "Saturn",
          "Dodge",
          "Lexus",
          "Audi",
          "Chrysler",
          "Porsche",
          "Porsche",
          "Ford",
          "Toyota",
          "RAM",
          "Jaguar",
          "Mercedes-Benz",
          "Ford",
          "BMW",
          "Porsche",
          "Tesla",
          "Land",
          "Hyundai",
          "Kia",
          "Toyota",
          "Mercedes-Benz",
          "Ferrari",
          "Ford",
          "Lexus",
          "Ford",
          "Acura",
          "Ford",
          "Porsche",
          "Ford",
          "Toyota",
          "Mitsubishi",
          "Chevrolet",
          "Honda",
          "Toyota",
          "Chevrolet",
          "Kia",
          "Land",
          "Lincoln",
          "BMW",
          "Cadillac",
          "Ford",
          "BMW",
          "Mercedes-Benz",
          "Hyundai",
          "MINI",
          "GMC",
          "Ford",
          "Porsche",
          "BMW",
          "Tesla",
          "Audi",
          "Nissan",
          "Jeep",
          "RAM",
          "Chevrolet",
          "Cadillac",
          "GMC",
          "Cadillac",
          "Ford",
          "Land",
          "Audi",
          "Nissan",
          "Mazda",
          "Ford",
          "Hyundai",
          "Porsche",
          "BMW",
          "RAM",
          "Pontiac",
          "Porsche",
          "Scion",
          "Honda",
          "Lexus",
          "BMW",
          "Land",
          "Ferrari",
          "Mercedes-Benz",
          "Ford",
          "Ford",
          "Ford",
          "Toyota",
          "Volvo",
          "Buick",
          "Audi",
          "Ford",
          "Ford",
          "INFINITI",
          "Nissan",
          "Audi",
          "Chevrolet",
          "Ford",
          "Chevrolet",
          "Ford",
          "Mercedes-Benz",
          "BMW",
          "Jaguar",
          "Porsche",
          "BMW",
          "Mercedes-Benz",
          "Nissan",
          "Honda",
          "Porsche",
          "Toyota",
          "Land",
          "Jeep",
          "GMC",
          "Chevrolet",
          "Toyota",
          "Nissan",
          "Land",
          "Ford",
          "Mercedes-Benz",
          "Nissan",
          "Kia",
          "RAM",
          "Chevrolet",
          "Dodge",
          "Nissan",
          "Audi",
          "Subaru",
          "Kia",
          "Tesla",
          "Chevrolet",
          "Audi",
          "BMW",
          "INFINITI",
          "BMW",
          "Jeep",
          "Ford",
          "Mazda",
          "Ford",
          "Kia",
          "Dodge",
          "Mercedes-Benz",
          "Ford",
          "Ford",
          "INFINITI",
          "Tesla",
          "Mercedes-Benz",
          "Lincoln",
          "Chevrolet",
          "BMW",
          "Ford",
          "Jeep",
          "Ford",
          "Maserati",
          "Chevrolet",
          "Ford",
          "RAM",
          "Porsche",
          "Alfa",
          "Jeep",
          "Subaru",
          "Alfa",
          "Toyota",
          "Toyota",
          "Mazda",
          "Jeep",
          "Tesla",
          "GMC",
          "Ford",
          "Porsche",
          "Ford",
          "Mercedes-Benz",
          "BMW",
          "BMW",
          "Land",
          "Hyundai",
          "Chevrolet",
          "Lexus",
          "Chrysler",
          "Lexus",
          "Volvo",
          "Honda",
          "Lincoln",
          "Toyota",
          "BMW",
          "Audi",
          "BMW",
          "Dodge",
          "Land",
          "Toyota",
          "Jeep",
          "INFINITI",
          "GMC",
          "INFINITI",
          "Chevrolet",
          "Toyota",
          "Jeep",
          "Lexus",
          "Hyundai",
          "Jaguar",
          "Cadillac",
          "Jeep",
          "Land",
          "RAM",
          "Chevrolet",
          "Volvo",
          "Audi",
          "Mazda",
          "Audi",
          "Mercedes-Benz",
          "Ford",
          "INFINITI",
          "Porsche",
          "Acura",
          "Toyota",
          "BMW",
          "Tesla",
          "BMW",
          "Acura",
          "GMC",
          "MINI",
          "smart",
          "Kia",
          "Jaguar",
          "Jeep",
          "Mercedes-Benz",
          "INFINITI",
          "BMW",
          "Chevrolet",
          "RAM",
          "RAM",
          "Audi",
          "Rivian",
          "Audi",
          "Subaru",
          "Land",
          "BMW",
          "Ford",
          "BMW",
          "Mercedes-Benz",
          "Subaru",
          "Mercedes-Benz",
          "Mercedes-Benz",
          "Audi",
          "Chevrolet",
          "Ford",
          "Nissan",
          "Mercedes-Benz",
          "Ford",
          "Kia",
          "Mercedes-Benz",
          "Nissan",
          "Mercedes-Benz",
          "Audi",
          "Audi",
          "Ford",
          "Land",
          "BMW",
          "Land",
          "Toyota",
          "GMC",
          "BMW",
          "Mazda",
          "Lincoln",
          "Ford",
          "BMW",
          "Nissan",
          "Chevrolet",
          "Porsche",
          "Aston",
          "Toyota",
          "BMW",
          "Toyota",
          "Ford",
          "Land",
          "Bentley",
          "Jeep",
          "Lexus",
          "Genesis",
          "BMW",
          "Land",
          "Lexus",
          "Audi",
          "Ford",
          "INFINITI",
          "Dodge",
          "Audi",
          "Chevrolet",
          "Audi",
          "Cadillac",
          "Ford",
          "Honda",
          "Land",
          "Jaguar",
          "BMW",
          "Genesis",
          "Audi",
          "Porsche",
          "Cadillac",
          "Mazda",
          "Nissan",
          "Mercedes-Benz",
          "Tesla",
          "Ford",
          "Ford",
          "BMW",
          "Lexus",
          "Bentley",
          "Audi",
          "Chevrolet",
          "Lexus",
          "Mercedes-Benz",
          "BMW",
          "Chevrolet",
          "Mercedes-Benz",
          "Chrysler",
          "Land",
          "Land",
          "Porsche",
          "Mercedes-Benz",
          "Mercedes-Benz",
          "BMW",
          "BMW",
          "Hyundai",
          "Land",
          "Jeep",
          "Chevrolet",
          "Ford",
          "Ford",
          "Hyundai",
          "Tesla",
          "BMW",
          "Mitsubishi",
          "Mercedes-Benz",
          "Land",
          "Mercedes-Benz",
          "Porsche",
          "Rolls-Royce",
          "Mercedes-Benz",
          "Buick",
          "Porsche",
          "Ford",
          "Tesla",
          "Honda",
          "BMW",
          "Land",
          "INFINITI",
          "Porsche",
          "MINI",
          "Nissan",
          "Ford",
          "Tesla",
          "Lexus",
          "Dodge",
          "BMW",
          "Chevrolet",
          "BMW",
          "Subaru",
          "Volvo",
          "Jaguar",
          "Dodge",
          "Porsche",
          "Ferrari",
          "Scion",
          "Subaru",
          "Chevrolet",
          "Kia",
          "Lamborghini",
          "Chevrolet",
          "Dodge",
          "Nissan",
          "Scion",
          "BMW",
          "Lexus",
          "Volvo",
          "Lexus",
          "BMW",
          "Ford",
          "Porsche",
          "Tesla",
          "Ford",
          "BMW",
          "Chevrolet",
          "Land",
          "Ford",
          "Volkswagen",
          "Ford",
          "Chevrolet",
          "Jeep",
          "Toyota",
          "Jaguar",
          "Porsche",
          "Volkswagen",
          "Chevrolet",
          "Lexus",
          "Volkswagen",
          "Ford",
          "Ford",
          "Jeep",
          "Toyota",
          "Nissan",
          "Kia",
          "BMW",
          "Ford",
          "Volkswagen",
          "Chevrolet",
          "Jeep",
          "Toyota",
          "Mercedes-Benz",
          "BMW",
          "BMW",
          "Maserati",
          "RAM",
          "Ford",
          "Ford",
          "Nissan",
          "Audi",
          "Audi",
          "Nissan",
          "Chevrolet",
          "Nissan",
          "Lexus",
          "Ford",
          "Honda",
          "Mazda",
          "Cadillac",
          "Bentley",
          "Subaru",
          "Lincoln",
          "Mercedes-Benz",
          "Ford",
          "Mercedes-Benz",
          "Ford",
          "Honda",
          "Porsche",
          "Lexus",
          "Hummer",
          "Porsche",
          "GMC",
          "Nissan",
          "MINI",
          "Toyota",
          "Ford",
          "BMW",
          "Mercedes-Benz",
          "Honda",
          "Saab",
          "GMC",
          "Mercedes-Benz",
          "Honda",
          "RAM",
          "Toyota",
          "Hyundai",
          "BMW",
          "Chevrolet",
          "Mercedes-Benz",
          "Mercedes-Benz",
          "Ford",
          "Hummer",
          "Jeep",
          "Mercedes-Benz",
          "Porsche",
          "Mazda",
          "Volkswagen",
          "Chevrolet",
          "Cadillac"
         ],
         "legendgroup": "",
         "marker": {
          "color": "#636efa",
          "opacity": 0.6,
          "symbol": "circle"
         },
         "mode": "markers",
         "name": "",
         "orientation": "v",
         "showlegend": false,
         "type": "scatter",
         "x": [
          9000,
          30000,
          49999,
          33000,
          42999,
          6700,
          6750,
          33000,
          27798,
          59950,
          35999,
          24900,
          62999,
          45515,
          54900,
          27500,
          27500,
          32769,
          54500,
          13995,
          188900,
          47645,
          19780,
          10000,
          59400,
          83998,
          6700,
          48500,
          85950,
          4800,
          3995,
          10900,
          38598,
          3499,
          20199,
          46999,
          69250,
          16500,
          24500,
          64990,
          17000,
          9900,
          129000,
          27000,
          12000,
          59000,
          9000,
          139500,
          9900,
          5995,
          60995,
          19500,
          10500,
          40999,
          16488,
          35999,
          26500,
          26691,
          95580,
          15000,
          31750,
          26500,
          8300,
          51999,
          47950,
          52000,
          18750,
          11995,
          70250,
          54543,
          43500,
          49900,
          9750,
          8250,
          114998,
          26485,
          21500,
          14980,
          14900,
          92500,
          42886,
          27875,
          37000,
          15900,
          34995,
          157500,
          40500,
          23800,
          10900,
          74900,
          55000,
          41500,
          13000,
          5500,
          5999,
          104900,
          29500,
          18955,
          27999,
          36000,
          69000,
          64250,
          40888,
          17500,
          10998,
          29000,
          65500,
          172000,
          9999,
          51000,
          36880,
          2800,
          9250,
          226000,
          34000,
          15000,
          55000,
          15000,
          45999,
          12975,
          29998,
          15000,
          40000,
          37999,
          26999,
          38598,
          10000,
          7858,
          55000,
          83900,
          50000,
          23300,
          72995,
          13800,
          43999,
          21500,
          51950,
          27499,
          40000,
          124990,
          36995,
          41500,
          34918,
          53000,
          38005,
          30000,
          17500,
          20900,
          20000,
          78000,
          19500,
          79999,
          11995,
          44900,
          8995,
          19995,
          39900,
          45000,
          43900,
          18995,
          19000,
          26000,
          315000,
          6600,
          42590,
          30919,
          30000,
          15900,
          65990,
          50000,
          27900,
          61500,
          26950,
          28500,
          39990,
          24000,
          93000,
          29950,
          8900,
          12499,
          85000,
          59000,
          56000,
          25900,
          15500,
          70000,
          3000,
          12500,
          9500,
          39000,
          22222,
          44798,
          42442,
          35670,
          22749,
          9995,
          54900,
          14000,
          26500,
          96900,
          9495,
          32000,
          6975,
          12749,
          17500,
          28000,
          6250,
          62000,
          22550,
          18998,
          19780,
          17500,
          9000,
          23998,
          55500,
          49900,
          81500,
          37500,
          64800,
          15500,
          30599,
          54900,
          10000,
          7350,
          32000,
          24590,
          59598,
          25900,
          38900,
          80000,
          19470,
          9499,
          19500,
          30000,
          53722,
          40798,
          19599,
          91500,
          63500,
          15999,
          15000,
          29614,
          31000,
          30000,
          20995,
          52590,
          46598,
          6399,
          26000,
          25500,
          44605,
          217000,
          43775,
          86900,
          83000,
          31990,
          32750,
          38781,
          20000,
          11500,
          15499,
          7000,
          24995,
          6500,
          12800,
          15000,
          15750,
          52645,
          479995,
          6000,
          12400,
          42500,
          41000,
          37000,
          95000,
          99900,
          12980,
          19000,
          32000,
          44850,
          98000,
          9000,
          47798,
          52000,
          64995,
          75000,
          8500,
          20000,
          22000,
          42000,
          17999,
          38598,
          54800,
          20000,
          16800,
          14500,
          32900,
          31599,
          55460,
          8450,
          64000,
          17995,
          21000,
          21000,
          13000,
          37050,
          37000,
          26000,
          59900,
          26497,
          7500,
          48000,
          10500,
          47598,
          30000,
          21900,
          48500,
          15000,
          359991,
          11000,
          229900,
          19900,
          18000,
          145000,
          96850,
          5200,
          60000,
          10000,
          65000,
          64288,
          52500,
          5500,
          12750,
          31380,
          17000,
          16750,
          3500,
          53000,
          42800,
          34000,
          12950,
          30275,
          46000,
          4400,
          4500,
          46900,
          17900,
          28250,
          275000,
          30990,
          10000,
          15500,
          52500,
          34000,
          42598,
          12599,
          38598,
          37500,
          28895,
          18750,
          15900,
          32913,
          44775,
          27900,
          259500,
          8000,
          43599,
          43430,
          39650,
          42500,
          78000,
          64000,
          27950,
          19500,
          12998,
          17500,
          27350,
          33000,
          37405,
          15900,
          12000,
          22500,
          103000,
          91000,
          56900,
          72777,
          28500,
          6699,
          25925,
          10300,
          69000,
          37000,
          42000,
          30000,
          39884,
          22000,
          42000,
          33885,
          2990,
          12433,
          60999,
          60000,
          5750,
          61998,
          32324,
          32250,
          44000,
          27599,
          43550,
          13800,
          50927,
          21999,
          80140,
          11495,
          38998,
          44000,
          40000,
          22800,
          243900,
          40000,
          45985,
          17999,
          65994,
          23500,
          50000,
          33290,
          78900,
          30500,
          48000,
          19900,
          25884,
          17000,
          42950,
          13715,
          14500,
          35000,
          40998,
          40950,
          29000,
          45000,
          15000,
          244896,
          23625,
          9599,
          55998,
          23995,
          72567,
          6500,
          43999,
          69790,
          33000,
          16995,
          195000,
          29999,
          38880,
          63900,
          39900,
          37900,
          18000,
          42000,
          47214,
          26000,
          36000,
          32500,
          60000,
          92000,
          9995,
          84900,
          16000,
          16800,
          22000,
          39500,
          12900,
          49599,
          23754,
          12000,
          30500,
          34998,
          47500,
          28500,
          63000,
          62500,
          12999,
          26000,
          84645,
          39950,
          6500,
          69995,
          125900,
          28499,
          33410,
          46599,
          38000,
          27500,
          28999,
          6500,
          21000,
          18000,
          16000,
          11500,
          44500,
          36300,
          84000,
          42500,
          28000,
          7999,
          108900,
          10500,
          76500,
          14500,
          7500,
          54490,
          38095,
          9500,
          24900,
          11500,
          3000,
          11000,
          34084,
          60500,
          27450,
          29000,
          155700,
          20000,
          63100,
          20000,
          16500,
          69500,
          8750,
          41500,
          17900,
          10700,
          18500,
          14599,
          19000,
          24590,
          28298,
          9975,
          32000,
          150000,
          18000,
          31000,
          36900,
          42900,
          6500,
          16500,
          18900,
          23000,
          4900,
          7500,
          83500,
          28450,
          65000,
          26599,
          9500,
          21612,
          5000,
          42242,
          74900,
          41329,
          33995,
          23900,
          29999,
          59590,
          46105,
          14000,
          21500,
          92000,
          44998,
          24998,
          19500,
          26125,
          58000,
          38995,
          130000,
          11498,
          8000,
          79999,
          30950,
          4900,
          12500,
          29895,
          16500,
          69999,
          45899,
          29998,
          13999,
          29000,
          49500,
          20499,
          42500,
          75000,
          20000,
          35000,
          84997,
          12995,
          66998,
          12900,
          27500,
          87500,
          33889,
          21500,
          46000,
          151900,
          69995,
          30500,
          52000,
          14200,
          29500,
          44000,
          349950,
          39998,
          37300,
          48950,
          45950,
          74900,
          15397,
          128900,
          14300,
          54000,
          19000,
          35000,
          7200,
          39599,
          9499,
          50000,
          38500,
          73897,
          47998,
          78350,
          31900,
          34999,
          49500,
          104000,
          17800,
          29000,
          17999,
          59500,
          44000,
          6299,
          18200,
          65000,
          269991,
          23000,
          14500,
          14945,
          30999,
          62000,
          6500,
          15900,
          12468,
          10000,
          14490,
          12000,
          25625,
          19000,
          96998,
          27500,
          13995,
          112000,
          5000,
          87150,
          63500,
          23999,
          16500,
          46500,
          69998,
          34999,
          104999,
          17500,
          18853,
          25900,
          166900,
          105500,
          31700,
          30000,
          10999,
          84000,
          35557,
          91900,
          29990,
          23000,
          54900,
          26750,
          28906,
          77535,
          68969,
          81900,
          50000,
          36800,
          16000,
          33598,
          9995,
          26599,
          42999,
          44888,
          69995,
          254900,
          6500,
          29990,
          16000,
          29998,
          267950,
          98000,
          5500,
          20000,
          7100,
          23995,
          21000,
          7000,
          28000,
          17000,
          28500,
          35000,
          49995,
          18000,
          9000,
          38000,
          115999,
          48149,
          20900,
          22000,
          38500,
          11000,
          27750,
          16370,
          35000,
          6000,
          26000,
          34500,
          29950,
          32500,
          61000,
          46500,
          15100,
          149500,
          36500,
          71000,
          12000,
          9750,
          18000,
          53000,
          7950,
          75000,
          24999,
          73600,
          44999,
          70999,
          71900,
          24998,
          21000,
          11000,
          22000,
          6999,
          8900,
          3850,
          24995,
          94999,
          26000,
          26288,
          89000,
          130000,
          33000,
          29000,
          99000,
          7000,
          35750,
          57352,
          18987,
          210000,
          16500,
          16900,
          41500,
          27633,
          113000,
          10999,
          8500,
          32850,
          117500,
          59750,
          17500,
          12950,
          31900,
          61000,
          7700,
          45999,
          41598,
          25987,
          46999,
          18900,
          40998,
          46900,
          85000,
          7200,
          83000,
          24900,
          75499,
          14311,
          4300,
          16000,
          14599
         ],
         "xaxis": "x",
         "y": [
          8808.182602522476,
          34827.804715158396,
          38799.50242760658,
          31914.29074936868,
          36946.78841567677,
          9278.002955166776,
          8071.009371803033,
          33526.01116777554,
          26357.784037094545,
          46549.16095445903,
          33532.5815418807,
          31427.572911360196,
          67660.50347075149,
          45182.278869837995,
          56200.97570191406,
          26574.674334444553,
          26356.312929852094,
          40362.07878650025,
          63631.94337404207,
          13993.126925155655,
          231214.91270238094,
          53000.317241038465,
          25159.219063303746,
          13043.76303262825,
          122386.76761584241,
          84638.99796588134,
          6721.792192381841,
          52882.73013911349,
          93468.92342484002,
          5011.015518037518,
          10526.925779239587,
          10231.317799315799,
          29107.28846208888,
          3520.070656565658,
          18581.860325513015,
          43066.64542388167,
          64181.95936904761,
          17084.62719357182,
          27310.721368555118,
          70474.3207220141,
          14905.148649579462,
          10135.802822289663,
          127548.61131098066,
          29714.803495250155,
          11411.17956623932,
          60368.885732966235,
          10749.943589285715,
          131386.3956901154,
          16130.051164778779,
          5831.458893217892,
          61534.36461974718,
          21617.39433359252,
          10438.032432262924,
          42073.557949381684,
          18693.68171862839,
          34900.5622230994,
          24161.73241522366,
          31885.527020763508,
          95121.36412895238,
          15678.035458054479,
          30870.969503289776,
          31772.3322910061,
          9877.377636700976,
          47609.15103476786,
          35492.70669917806,
          46008.52911986514,
          18666.4237258101,
          12463.567157053621,
          53546.63611640212,
          58588.475952105044,
          45744.08289849768,
          49177.42550614083,
          12971.600387688808,
          10784.063561507939,
          89277.54658806854,
          26618.56499849465,
          29331.95565476188,
          16156.763959968004,
          15994.72779336731,
          87893.87913379654,
          42071.52666188608,
          29995.169723016013,
          39892.98042503762,
          15366.34070870038,
          28909.423661817094,
          168770.05520634912,
          38200.19927352306,
          24164.614401546824,
          10974.701038857007,
          96074.07071840657,
          45492.85943702147,
          40666.07971643114,
          12276.075623493884,
          10212.21980279443,
          10926.040311507932,
          106722.73081349203,
          25962.36945442595,
          16319.29571001423,
          32044.169134091684,
          33002.161592251294,
          71432.59521037988,
          62750.35221743698,
          35493.29643739335,
          17652.851671272925,
          10872.290292885424,
          28861.871685458584,
          46487.370645542804,
          171454.93870436508,
          12682.232661833257,
          55968.355116285646,
          23481.314819808435,
          2842.5516955266944,
          9172.050963924961,
          213881.8442541487,
          30278.227886116816,
          15679.910493581741,
          41871.22129852092,
          18047.331838610386,
          47085.16057836972,
          14204.778335270275,
          30168.81070305944,
          18920.017524438448,
          43138.48571246539,
          29811.996491865153,
          25986.96659947503,
          46514.188970462725,
          15072.876851419762,
          8319.956305754913,
          50953.3496269701,
          89282.73586952567,
          47605.796996547804,
          17816.813468128814,
          57180.87572943722,
          16674.865981962474,
          54004.50640786665,
          19036.57741932119,
          44899.640356418015,
          21850.356890151066,
          35333.864354044425,
          124177.3802144661,
          41915.391412698424,
          40713.856691772744,
          38575.038032027194,
          65285.4136190476,
          35909.88950918481,
          26695.64438655162,
          15651.059474057587,
          21323.845847742654,
          19011.413760473977,
          82831.55626043705,
          18881.348722956147,
          93959.0805952782,
          12131.115320436507,
          40716.30686948188,
          9960.886664058164,
          20230.47644716268,
          42494.82344470386,
          47302.81256934805,
          47005.37711740345,
          19468.549461128594,
          17393.091824908286,
          26734.02268969687,
          324866.91981746035,
          9507.875678046159,
          44585.92290089166,
          29042.140900936374,
          28974.736165110982,
          14600.418187884188,
          68494.01979159725,
          48101.10950896895,
          27019.923423499906,
          54882.88434325399,
          34150.668250137336,
          27490.145682655027,
          48507.05308500417,
          19166.189365110014,
          131987.319375,
          32360.306553661612,
          8579.337302158623,
          12722.027443616831,
          95285.38679487992,
          67487.24599314576,
          62124.81905729789,
          33926.310014750154,
          15612.606074416384,
          70729.64305492427,
          5950.4051865079355,
          10670.535701855413,
          9928.18173173649,
          42279.746095674986,
          24401.03070400658,
          40567.09894104156,
          35785.21214705252,
          33556.185105917735,
          22172.4333968254,
          10797.465491928626,
          46827.20705553499,
          11996.62391809793,
          26789.07850395941,
          109621.69014682541,
          15267.633006243761,
          40926.416123737356,
          6163.447311327563,
          9124.536228174602,
          18269.57887943591,
          22952.842393381823,
          6975.593317460319,
          55418.96557832693,
          18343.297767831857,
          18945.788126082258,
          18118.680861869747,
          16545.93132500636,
          13180.483304462348,
          18202.90495652958,
          55968.355116285646,
          37859.99400942458,
          71904.28067063492,
          39471.719971583734,
          65307.19149801993,
          16126.046293528623,
          31357.791821073955,
          56994.10442207056,
          9533.76718416306,
          9914.423838675215,
          33667.834550834836,
          28446.241046726074,
          59759.162363415686,
          26158.44232711617,
          40614.88640052517,
          81734.7313841853,
          25022.075869769124,
          15298.43084090102,
          18656.024409567097,
          20191.87091514939,
          59102.5584579812,
          41522.567100842374,
          21560.10314157851,
          76850.65310840549,
          43136.800431901036,
          18810.443166649828,
          17529.563717532474,
          29901.63519403113,
          30247.44702744986,
          37857.40050869963,
          21025.430105079693,
          44429.2831195576,
          47314.53977250658,
          6155.263384607353,
          25051.71342226613,
          25904.678799035377,
          54836.37255950903,
          199330.85960696248,
          45198.21132030857,
          86281.51666865079,
          81040.39182971198,
          31495.381813329946,
          31862.74455866271,
          39440.90532588357,
          17121.915611358174,
          14517.753130220477,
          17231.423516159957,
          7380.513947324121,
          26164.384960963063,
          10280.344779094443,
          14469.033050407925,
          20910.114906746032,
          16028.773655766283,
          51687.60498238317,
          151711.87073214285,
          6022.363130952383,
          14524.761294988948,
          39621.78078824277,
          37171.5259427037,
          38625.30358905125,
          85406.4410533447,
          88751.30584578429,
          12825.935656383219,
          26907.331036606858,
          23622.612542439467,
          48277.74548748708,
          84137.32251550346,
          13320.896911871023,
          47886.72475478671,
          46981.47983558859,
          64240.95168650796,
          76227.8204991814,
          8640.82315911707,
          22282.36671880248,
          22520.92535111745,
          38956.30094953988,
          19429.90342266755,
          42752.821034531196,
          49083.69128340396,
          22482.54008089681,
          17201.995947327523,
          11245.735974266612,
          34104.25769225913,
          31407.491858187732,
          52046.19098532626,
          8611.906431463141,
          64569.14934848484,
          27024.725262037493,
          25884.32602038239,
          25248.774574260242,
          14516.0046794042,
          40443.8113040611,
          28632.367459720837,
          33275.09531079134,
          50321.50829997927,
          32216.586801822912,
          7468.782499999998,
          39976.93240695491,
          10378.440477683718,
          54800.12139898991,
          30154.341109834717,
          21184.89654345287,
          45421.48468183171,
          13957.373066606588,
          391291.23756349215,
          7517.29852128013,
          234667.29331349206,
          21183.21797069245,
          14626.417622655117,
          146722.88950595248,
          94684.63816979184,
          6142.307858813702,
          61892.17571336164,
          9410.217832903209,
          76686.24471331447,
          67237.48682633054,
          51480.523282439775,
          10435.282270662543,
          14992.650867727958,
          29857.648944753557,
          15849.35054273505,
          18411.391262235455,
          6137.445509920633,
          75961.00901190472,
          54408.838858353476,
          29868.445560551103,
          13861.144716466551,
          34336.144149515465,
          47293.12270513888,
          4467.105968253967,
          5002.801305735932,
          38132.28918548907,
          13058.478694069818,
          20014.190602813866,
          269989.0838089827,
          32230.538365079366,
          10974.30535685036,
          14385.731333333337,
          50269.27859490192,
          37961.291804034474,
          40752.45562698986,
          12047.609784972563,
          44904.122795690775,
          36675.17691209569,
          32999.837692818815,
          24047.300905105647,
          17699.51833426065,
          36745.63354129835,
          45154.589543694594,
          32000.03797417695,
          276880.1106125543,
          8199.552238095237,
          38974.06214346144,
          39136.35278827716,
          36037.32266251526,
          43384.15912054506,
          81303.5288103806,
          53120.893885490244,
          32754.02673317824,
          24219.349439065692,
          9921.83947779998,
          18125.545305198237,
          28026.458579432736,
          33139.946997287436,
          37907.92705715053,
          29903.933392600185,
          12190.581230909123,
          23297.784849454194,
          87256.17372019943,
          68712.39830846927,
          53717.28211609147,
          53896.6027638889,
          28454.415897759936,
          6475.3711756854245,
          27925.807483946617,
          10861.432363509639,
          65723.9216363359,
          35852.355499899044,
          43422.23380144037,
          34690.99934958792,
          40213.015186605684,
          23349.561019310277,
          43948.121758657995,
          28426.441995987647,
          6292.446468253969,
          13989.243482291398,
          48701.02391901991,
          61666.442010995524,
          8246.947476190478,
          56280.05956203985,
          31713.460066711064,
          30109.462174981414,
          37133.22585169529,
          29425.303637980993,
          38311.306073117936,
          16013.381355263577,
          43229.1029762436,
          21955.22826875902,
          49037.4359730135,
          10547.111772980184,
          39462.04656360292,
          47024.33165303817,
          36969.00167350399,
          19337.15357786269,
          239487.51177579368,
          45449.92993240878,
          45430.327231612195,
          16298.021976680377,
          69962.1751074759,
          17174.020956687436,
          43718.3215865439,
          33293.42745946828,
          92409.61576913671,
          30971.53852089463,
          46729.23143477748,
          20318.111072134438,
          23268.43979249374,
          12861.621877737452,
          40660.911016619524,
          21413.437431496048,
          17362.597434244897,
          34460.55343245647,
          49182.31672381377,
          27392.656556431273,
          28889.45381859332,
          44158.01800576779,
          14335.613431858605,
          229825.69159126974,
          26407.46616594864,
          16974.75127415639,
          54831.408654397615,
          24875.29876592318,
          67993.37053264791,
          6446.631829539126,
          36306.267827046715,
          68421.52498214289,
          40020.425841450204,
          18783.892133720772,
          170510.46799007937,
          29854.284702887595,
          33687.74397156952,
          51548.67868301378,
          42064.16148062028,
          41434.570792375765,
          19448.066681704262,
          39265.2310417347,
          36643.06263199853,
          36136.21576747383,
          33429.3632182558,
          28913.616648321386,
          50740.543064949845,
          91855.9610289406,
          12835.151114681477,
          98330.76095085472,
          18683.061017316013,
          18212.715903468612,
          24063.926561905337,
          39126.70036284841,
          13447.121184980042,
          57390.699601731176,
          25245.942281463478,
          8341.378385836386,
          26596.249599642157,
          37398.405538267274,
          50265.793402255644,
          23370.787928178455,
          63646.219045662234,
          43634.24142238848,
          11454.598153876217,
          30157.840940942126,
          55524.54075793649,
          49337.24272621895,
          6302.376251364523,
          67362.25828156568,
          134770.24122582973,
          28300.55418011245,
          32283.831868189314,
          47168.966705216466,
          58610.32064953359,
          28796.244916488544,
          30218.92446883102,
          6586.209424705071,
          26063.982734228197,
          16258.959556750486,
          29553.359314033183,
          15419.31622045193,
          36247.10013602214,
          42029.45802832067,
          85611.1253293436,
          31093.96744068817,
          32225.033095779203,
          7605.321727813858,
          117733.04280158725,
          9337.043337702766,
          72189.86572213203,
          14351.070726748723,
          7001.127786495911,
          50366.104308829505,
          34170.17665883377,
          7596.819186443675,
          20769.917062370376,
          8696.483896829066,
          4913.140579365079,
          14232.125892185382,
          34912.9929529235,
          80826.21612038453,
          27848.637895771546,
          31457.21686190863,
          149440.59365476193,
          32091.06903192641,
          71739.29412400794,
          22806.158243047325,
          16149.84419374288,
          69325.71885160671,
          12484.01362452719,
          44872.87027216383,
          18670.848629383538,
          12893.742352731475,
          14534.099554499493,
          17530.611777584258,
          19197.65971362955,
          27757.109003965306,
          28223.336723302094,
          10417.619839803896,
          30731.080640623182,
          84529.84309017028,
          19969.994807104653,
          24865.364356962,
          36442.51697408046,
          52509.43507520278,
          7033.244504803676,
          16177.905291746107,
          22606.030582834253,
          23889.227004053697,
          5963.0654917027405,
          23811.70773412698,
          89761.6694413284,
          26213.690828429913,
          55063.7254555584,
          27832.28948859114,
          11116.708093901667,
          26387.45640086792,
          5130.200077200578,
          44107.26918173515,
          59727.405708831095,
          40369.83280737937,
          29502.499432184002,
          22003.69534079789,
          29061.967602082364,
          57184.38534382228,
          46640.09474841179,
          26884.155247823055,
          29224.999169706633,
          93757.4408187817,
          45330.10042489655,
          26873.801604175605,
          22870.540557773496,
          34235.49440426343,
          41891.26965093113,
          22439.828671371193,
          123679.9877830086,
          14249.855127934974,
          20216.0850940073,
          67225.70922002997,
          27485.858910749546,
          5352.83930681818,
          11901.926121614168,
          29395.730821547037,
          10677.940441996061,
          69773.75022889614,
          43734.304916172594,
          22550.230888675516,
          15145.490860394237,
          33307.55495269469,
          47388.29910464178,
          23832.427016663914,
          41265.78232577817,
          78200.91576984127,
          16010.136035546919,
          38125.23031113431,
          83914.98326605339,
          16005.892127636254,
          67315.84568314324,
          10466.33749138117,
          34281.18304072748,
          42413.80105277631,
          33402.351368245494,
          20466.551513276154,
          44258.421830221436,
          131785.8466688312,
          65507.89342460318,
          29610.50446450544,
          60489.81546110855,
          14794.688401362211,
          29276.72726704854,
          44278.874751207775,
          212352.79610317465,
          39171.02576631576,
          36315.89932525839,
          46986.47682473601,
          48424.628875340924,
          64619.63095286604,
          15718.503445977634,
          165026.20538077204,
          12306.258779808493,
          44326.22509909256,
          16841.676537850115,
          33082.61215817621,
          7167.1735546536775,
          40455.327804454144,
          8007.846037416773,
          45377.43262564874,
          36908.42246814015,
          73335.00594757324,
          46706.09220634741,
          80154.10344940476,
          29783.5763152231,
          38649.789448343035,
          42190.99290249296,
          91158.09038645214,
          19009.230439984844,
          30600.622577380953,
          17166.638826886014,
          49711.96703139334,
          49912.88782012729,
          6451.591898075999,
          20214.180172148815,
          74367.47027976188,
          244285.94052777777,
          21611.76586524587,
          13627.719456368917,
          15089.718199872237,
          38450.52233755714,
          58587.67091512081,
          6372.905801761348,
          17482.95805030131,
          11436.839788211291,
          16646.4020187621,
          12988.967648313117,
          18718.724101190477,
          29707.294617191783,
          22021.489710478716,
          119043.64209668104,
          32158.789837273736,
          14992.920238978713,
          120832.2540143468,
          4978.966477994229,
          67061.88458499082,
          52653.06514514721,
          19120.70928369395,
          12528.275082181273,
          46425.03668113039,
          70734.06880525724,
          30401.578068475632,
          30524.018599206345,
          16877.210095209073,
          18606.781663961046,
          24281.840556582298,
          131652.74906981908,
          108713.6911993146,
          29647.22016360057,
          34885.76230876515,
          13214.194607214604,
          91396.27872218037,
          38357.11028249503,
          89461.59644628112,
          19633.428460463147,
          24183.374305463018,
          54110.44227787439,
          27241.046855217148,
          29577.965319599014,
          53144.34424873735,
          67772.97661517977,
          87308.01329525375,
          37287.81599671321,
          47105.52375876016,
          10837.396945143983,
          35046.98843492275,
          11197.913827688924,
          30655.02186585362,
          42183.89641629139,
          44511.23740878382,
          70303.2726488095,
          242636.19816468254,
          5985.062188492062,
          34235.275312951155,
          19675.883967418547,
          28866.843243581763,
          266661.3364761905,
          91207.39365737588,
          6173.243213972433,
          13892.358876335935,
          6744.141417388171,
          26934.165016727977,
          18408.256524287906,
          8655.755691759687,
          28732.7399674651,
          30641.30511958874,
          26525.363947366095,
          39760.32541428424,
          39806.053125525235,
          16450.969878725038,
          8971.910776602115,
          31072.55980541218,
          122553.53518993505,
          42103.5673617025,
          23653.033526239797,
          31290.508151029586,
          33888.23365128085,
          13006.403111553404,
          24238.52568391318,
          12211.089992507892,
          33327.45419509655,
          6054.995461988304,
          22799.006083333326,
          30740.931955379503,
          27273.605569060222,
          36683.20427292822,
          45770.92445180698,
          46013.33798156196,
          12292.077482194754,
          110541.8808582252,
          39586.6832624249,
          83456.56269856528,
          14380.658516847672,
          9125.099247994061,
          13434.033637014178,
          46371.12812884694,
          6433.589189574314,
          81641.11739285714,
          36946.40315974957,
          70951.32376551226,
          40120.12248013358,
          58467.47383805472,
          75377.58459131472,
          32005.961055035452,
          19855.083583333337,
          10365.351910010619,
          24256.981130053322,
          9612.733821121126,
          8941.622325306636,
          8956.154529149811,
          20163.98064177489,
          92748.16000059033,
          22649.627917873786,
          27848.928641959148,
          96261.13649076289,
          142343.7832191698,
          32953.04375602814,
          30607.589271326397,
          120509.34435119046,
          7177.057472481709,
          28875.139417381113,
          43272.329644669255,
          17315.723677633367,
          391861.16505375213,
          15340.884232140696,
          19214.990583735416,
          37147.80639350379,
          30404.173756391712,
          108442.00981060613,
          9787.601447892923,
          16177.874877037431,
          35445.80232362583,
          107549.99208134924,
          45584.48062575488,
          14666.263105068545,
          11746.611886923312,
          27303.81420190955,
          50595.41577867965,
          7723.376025335773,
          47085.16057836972,
          38715.26263617687,
          28954.65185615387,
          43831.411670208254,
          18907.21473867813,
          43648.30074141441,
          44685.89633269817,
          73108.03745802806,
          11062.01994180089,
          80393.34970486134,
          19929.494275793655,
          93604.653547619,
          18124.672833114175,
          4310.458246031746,
          23608.502189088682,
          15700.407934970437
         ],
         "yaxis": "y"
        },
        {
         "hovertemplate": "<b>OLS trendline</b><br>Predicted Price = 0.877825 * Actual Price + 4471.52<br>R<sup>2</sup>=0.865954<br><br>Actual Price ($)=%{x}<br>Predicted Price ($)=%{y} <b>(trend)</b><extra></extra>",
         "legendgroup": "",
         "marker": {
          "color": "#636efa",
          "symbol": "circle"
         },
         "mode": "lines",
         "name": "",
         "showlegend": false,
         "type": "scatter",
         "x": [
          2800,
          2990,
          3000,
          3000,
          3499,
          3500,
          3850,
          3995,
          4300,
          4400,
          4500,
          4800,
          4900,
          4900,
          5000,
          5000,
          5200,
          5500,
          5500,
          5500,
          5750,
          5995,
          5999,
          6000,
          6000,
          6250,
          6299,
          6399,
          6500,
          6500,
          6500,
          6500,
          6500,
          6500,
          6500,
          6600,
          6699,
          6700,
          6700,
          6750,
          6975,
          6999,
          7000,
          7000,
          7000,
          7100,
          7200,
          7200,
          7350,
          7500,
          7500,
          7500,
          7700,
          7858,
          7950,
          7999,
          8000,
          8000,
          8250,
          8300,
          8450,
          8500,
          8500,
          8750,
          8900,
          8900,
          8995,
          9000,
          9000,
          9000,
          9000,
          9000,
          9250,
          9495,
          9499,
          9499,
          9500,
          9500,
          9500,
          9599,
          9750,
          9750,
          9900,
          9900,
          9975,
          9995,
          9995,
          9995,
          9999,
          10000,
          10000,
          10000,
          10000,
          10000,
          10000,
          10300,
          10500,
          10500,
          10500,
          10700,
          10900,
          10900,
          10998,
          10999,
          10999,
          11000,
          11000,
          11000,
          11000,
          11495,
          11498,
          11500,
          11500,
          11500,
          11995,
          11995,
          12000,
          12000,
          12000,
          12000,
          12000,
          12400,
          12433,
          12468,
          12499,
          12500,
          12500,
          12599,
          12749,
          12750,
          12800,
          12900,
          12900,
          12950,
          12950,
          12975,
          12980,
          12995,
          12998,
          12999,
          13000,
          13000,
          13715,
          13800,
          13800,
          13995,
          13995,
          13999,
          14000,
          14000,
          14200,
          14300,
          14311,
          14490,
          14500,
          14500,
          14500,
          14500,
          14599,
          14599,
          14900,
          14945,
          14980,
          15000,
          15000,
          15000,
          15000,
          15000,
          15000,
          15000,
          15000,
          15100,
          15397,
          15499,
          15500,
          15500,
          15500,
          15750,
          15900,
          15900,
          15900,
          15900,
          15900,
          15999,
          16000,
          16000,
          16000,
          16000,
          16000,
          16370,
          16488,
          16500,
          16500,
          16500,
          16500,
          16500,
          16500,
          16750,
          16800,
          16800,
          16900,
          16995,
          17000,
          17000,
          17000,
          17000,
          17500,
          17500,
          17500,
          17500,
          17500,
          17500,
          17500,
          17800,
          17900,
          17900,
          17995,
          17999,
          17999,
          17999,
          18000,
          18000,
          18000,
          18000,
          18000,
          18000,
          18200,
          18500,
          18750,
          18750,
          18853,
          18900,
          18900,
          18955,
          18987,
          18995,
          18998,
          19000,
          19000,
          19000,
          19000,
          19000,
          19470,
          19500,
          19500,
          19500,
          19500,
          19500,
          19599,
          19780,
          19780,
          19900,
          19900,
          19995,
          20000,
          20000,
          20000,
          20000,
          20000,
          20000,
          20000,
          20000,
          20199,
          20499,
          20900,
          20900,
          20995,
          21000,
          21000,
          21000,
          21000,
          21000,
          21500,
          21500,
          21500,
          21500,
          21612,
          21900,
          21999,
          22000,
          22000,
          22000,
          22000,
          22000,
          22222,
          22500,
          22550,
          22749,
          22800,
          23000,
          23000,
          23000,
          23300,
          23500,
          23625,
          23754,
          23800,
          23900,
          23995,
          23995,
          23998,
          23999,
          24000,
          24500,
          24590,
          24590,
          24900,
          24900,
          24900,
          24995,
          24995,
          24998,
          24998,
          24999,
          25500,
          25625,
          25884,
          25900,
          25900,
          25900,
          25925,
          25987,
          26000,
          26000,
          26000,
          26000,
          26000,
          26000,
          26000,
          26125,
          26288,
          26485,
          26497,
          26500,
          26500,
          26500,
          26599,
          26599,
          26691,
          26750,
          26950,
          26999,
          27000,
          27350,
          27450,
          27499,
          27500,
          27500,
          27500,
          27500,
          27500,
          27599,
          27633,
          27750,
          27798,
          27875,
          27900,
          27900,
          27950,
          27999,
          28000,
          28000,
          28000,
          28250,
          28298,
          28450,
          28499,
          28500,
          28500,
          28500,
          28500,
          28895,
          28906,
          28999,
          29000,
          29000,
          29000,
          29000,
          29000,
          29000,
          29500,
          29500,
          29614,
          29895,
          29950,
          29950,
          29990,
          29990,
          29998,
          29998,
          29998,
          29999,
          29999,
          30000,
          30000,
          30000,
          30000,
          30000,
          30000,
          30000,
          30000,
          30275,
          30500,
          30500,
          30500,
          30599,
          30919,
          30950,
          30990,
          30999,
          31000,
          31000,
          31380,
          31599,
          31700,
          31750,
          31900,
          31900,
          31990,
          32000,
          32000,
          32000,
          32000,
          32250,
          32324,
          32500,
          32500,
          32750,
          32769,
          32850,
          32900,
          32913,
          33000,
          33000,
          33000,
          33000,
          33000,
          33290,
          33410,
          33598,
          33885,
          33889,
          33995,
          34000,
          34000,
          34000,
          34084,
          34500,
          34918,
          34995,
          34998,
          34999,
          34999,
          35000,
          35000,
          35000,
          35000,
          35000,
          35557,
          35670,
          35750,
          35999,
          35999,
          36000,
          36000,
          36300,
          36500,
          36800,
          36880,
          36900,
          36995,
          37000,
          37000,
          37000,
          37000,
          37050,
          37300,
          37405,
          37500,
          37500,
          37900,
          37999,
          38000,
          38000,
          38005,
          38095,
          38500,
          38500,
          38598,
          38598,
          38598,
          38598,
          38781,
          38880,
          38900,
          38995,
          38998,
          39000,
          39500,
          39599,
          39650,
          39884,
          39900,
          39900,
          39950,
          39990,
          39998,
          40000,
          40000,
          40000,
          40000,
          40500,
          40798,
          40888,
          40950,
          40998,
          40998,
          40999,
          41000,
          41329,
          41500,
          41500,
          41500,
          41500,
          41598,
          42000,
          42000,
          42000,
          42000,
          42242,
          42442,
          42500,
          42500,
          42500,
          42500,
          42590,
          42598,
          42800,
          42886,
          42900,
          42950,
          42999,
          42999,
          43430,
          43500,
          43550,
          43599,
          43775,
          43900,
          43999,
          43999,
          44000,
          44000,
          44000,
          44000,
          44500,
          44605,
          44775,
          44798,
          44850,
          44888,
          44900,
          44998,
          44999,
          45000,
          45000,
          45515,
          45899,
          45950,
          45985,
          45999,
          45999,
          46000,
          46000,
          46105,
          46500,
          46500,
          46598,
          46599,
          46900,
          46900,
          46999,
          46999,
          47214,
          47500,
          47598,
          47645,
          47798,
          47950,
          47998,
          48000,
          48000,
          48149,
          48500,
          48500,
          48950,
          49500,
          49500,
          49599,
          49900,
          49900,
          49995,
          49999,
          50000,
          50000,
          50000,
          50000,
          50000,
          50927,
          51000,
          51950,
          51999,
          52000,
          52000,
          52000,
          52500,
          52500,
          52590,
          52645,
          53000,
          53000,
          53000,
          53722,
          54000,
          54490,
          54500,
          54543,
          54800,
          54900,
          54900,
          54900,
          54900,
          55000,
          55000,
          55000,
          55460,
          55500,
          55998,
          56000,
          56900,
          57352,
          58000,
          59000,
          59000,
          59400,
          59500,
          59590,
          59598,
          59750,
          59900,
          59950,
          60000,
          60000,
          60000,
          60500,
          60995,
          60999,
          61000,
          61000,
          61500,
          61998,
          62000,
          62000,
          62500,
          62999,
          63000,
          63100,
          63500,
          63500,
          63900,
          64000,
          64000,
          64250,
          64288,
          64800,
          64990,
          64995,
          65000,
          65000,
          65000,
          65500,
          65990,
          65994,
          66998,
          68969,
          69000,
          69000,
          69250,
          69500,
          69790,
          69995,
          69995,
          69995,
          69998,
          69999,
          70000,
          70250,
          70999,
          71000,
          71900,
          72567,
          72777,
          72995,
          73600,
          73897,
          74900,
          74900,
          74900,
          75000,
          75000,
          75000,
          75499,
          76500,
          77535,
          78000,
          78000,
          78350,
          78900,
          79999,
          79999,
          80000,
          80140,
          81500,
          81900,
          83000,
          83000,
          83500,
          83900,
          83998,
          84000,
          84000,
          84645,
          84900,
          84997,
          85000,
          85000,
          85950,
          86900,
          87150,
          87500,
          89000,
          91000,
          91500,
          91900,
          92000,
          92000,
          92500,
          93000,
          94999,
          95000,
          95580,
          96850,
          96900,
          96998,
          98000,
          98000,
          99000,
          99900,
          103000,
          104000,
          104900,
          104999,
          105500,
          108900,
          112000,
          113000,
          114998,
          115999,
          117500,
          124990,
          125900,
          128900,
          129000,
          130000,
          130000,
          139500,
          145000,
          149500,
          150000,
          151900,
          155700,
          157500,
          166900,
          172000,
          188900,
          195000,
          210000,
          217000,
          226000,
          229900,
          243900,
          244896,
          254900,
          259500,
          267950,
          269991,
          275000,
          315000,
          349950,
          359991,
          479995
         ],
         "xaxis": "x",
         "y": [
          6929.430634475761,
          7096.217337540409,
          7104.995585070128,
          7104.995585070128,
          7543.030136803072,
          7543.907961556044,
          7851.146625096186,
          7978.431214277102,
          8246.16776393351,
          8333.950239230695,
          8421.732714527878,
          8685.080140419428,
          8772.86261571661,
          8772.86261571661,
          8860.645091013794,
          8860.645091013794,
          9036.210041608161,
          9299.557467499711,
          9299.557467499711,
          9299.557467499711,
          9519.01365574267,
          9734.080720220769,
          9737.592019232656,
          9738.46984398563,
          9738.46984398563,
          9957.926032228588,
          10000.939445124208,
          10088.72192042139,
          10177.382220471545,
          10177.382220471545,
          10177.382220471545,
          10177.382220471545,
          10177.382220471545,
          10177.382220471545,
          10177.382220471545,
          10265.16469576873,
          10352.06934631294,
          10352.947171065913,
          10352.947171065913,
          10396.838408714504,
          10594.348978133166,
          10615.416772204491,
          10616.294596957461,
          10616.294596957461,
          10616.294596957461,
          10704.077072254646,
          10791.859547551829,
          10791.859547551829,
          10923.533260497603,
          11055.206973443379,
          11055.206973443379,
          11055.206973443379,
          11230.771924037745,
          11369.468235007294,
          11450.228112280703,
          11493.241525176323,
          11494.119349929297,
          11494.119349929297,
          11713.575538172254,
          11757.466775820845,
          11889.140488766621,
          11933.031726415213,
          11933.031726415213,
          12152.48791465817,
          12284.161627603946,
          12284.161627603946,
          12367.55497913627,
          12371.944102901129,
          12371.944102901129,
          12371.944102901129,
          12371.944102901129,
          12371.944102901129,
          12591.400291144088,
          12806.467355622186,
          12809.978654634075,
          12809.978654634075,
          12810.856479387046,
          12810.856479387046,
          12810.856479387046,
          12897.761129931258,
          13030.312667630005,
          13030.312667630005,
          13161.98638057578,
          13161.98638057578,
          13227.823237048668,
          13245.379732108104,
          13245.379732108104,
          13245.379732108104,
          13248.89103111999,
          13249.768855872962,
          13249.768855872962,
          13249.768855872962,
          13249.768855872962,
          13249.768855872962,
          13249.768855872962,
          13513.116281764513,
          13688.68123235888,
          13688.68123235888,
          13688.68123235888,
          13864.246182953246,
          14039.811133547613,
          14039.811133547613,
          14125.837959338853,
          14126.715784091824,
          14126.715784091824,
          14127.593608844796,
          14127.593608844796,
          14127.593608844796,
          14127.593608844796,
          14562.116861565853,
          14564.75033582477,
          14566.505985330714,
          14566.505985330714,
          14566.505985330714,
          15001.029238051771,
          15001.029238051771,
          15005.41836181663,
          15005.41836181663,
          15005.41836181663,
          15005.41836181663,
          15005.41836181663,
          15356.548263005363,
          15385.516479853433,
          15416.240346207449,
          15443.452913549576,
          15444.330738302548,
          15444.330738302548,
          15531.235388846759,
          15662.909101792533,
          15663.786926545505,
          15707.678164194096,
          15795.46063949128,
          15795.46063949128,
          15839.351877139872,
          15839.351877139872,
          15861.297495964167,
          15865.686619729027,
          15878.853991023605,
          15881.48746528252,
          15882.365290035492,
          15883.243114788464,
          15883.243114788464,
          16510.887813163325,
          16585.50291716593,
          16585.50291716593,
          16756.67874399544,
          16756.67874399544,
          16760.190043007326,
          16761.0678677603,
          16761.0678677603,
          16936.632818354665,
          17024.415293651848,
          17034.07136593454,
          17191.201996716496,
          17199.980244246213,
          17199.980244246213,
          17199.980244246213,
          17199.980244246213,
          17286.884894790426,
          17286.884894790426,
          17551.11014543495,
          17590.61225931868,
          17621.336125672693,
          17638.89262073213,
          17638.89262073213,
          17638.89262073213,
          17638.89262073213,
          17638.89262073213,
          17638.89262073213,
          17638.89262073213,
          17638.89262073213,
          17726.675096029314,
          17987.38904766195,
          18076.927172465075,
          18077.804997218045,
          18077.804997218045,
          18077.804997218045,
          18297.261185461008,
          18428.934898406784,
          18428.934898406784,
          18428.934898406784,
          18428.934898406784,
          18428.934898406784,
          18515.839548950993,
          18516.717373703963,
          18516.717373703963,
          18516.717373703963,
          18516.717373703963,
          18516.717373703963,
          18841.512532303543,
          18945.09585315422,
          18955.62975018988,
          18955.62975018988,
          18955.62975018988,
          18955.62975018988,
          18955.62975018988,
          18955.62975018988,
          19175.08593843284,
          19218.977176081433,
          19218.977176081433,
          19306.759651378612,
          19390.153002910938,
          19394.5421266758,
          19394.5421266758,
          19394.5421266758,
          19394.5421266758,
          19833.454503161716,
          19833.454503161716,
          19833.454503161716,
          19833.454503161716,
          19833.454503161716,
          19833.454503161716,
          19833.454503161716,
          20096.801929053265,
          20184.584404350448,
          20184.584404350448,
          20267.97775588277,
          20271.48905489466,
          20271.48905489466,
          20271.48905489466,
          20272.366879647634,
          20272.366879647634,
          20272.366879647634,
          20272.366879647634,
          20272.366879647634,
          20272.366879647634,
          20447.931830242,
          20711.27925613355,
          20930.735444376507,
          20930.735444376507,
          21021.151393932607,
          21062.409157322283,
          21062.409157322283,
          21110.689518735733,
          21138.77991083083,
          21145.802508854606,
          21148.435983113523,
          21150.191632619466,
          21150.191632619466,
          21150.191632619466,
          21150.191632619466,
          21150.191632619466,
          21562.76926651623,
          21589.104009105384,
          21589.104009105384,
          21589.104009105384,
          21589.104009105384,
          21589.104009105384,
          21676.008659649593,
          21834.894939937494,
          21834.894939937494,
          21940.233910294115,
          21940.233910294115,
          22023.62726182644,
          22028.016385591298,
          22028.016385591298,
          22028.016385591298,
          22028.016385591298,
          22028.016385591298,
          22028.016385591298,
          22028.016385591298,
          22028.016385591298,
          22202.703511432694,
          22466.050937324242,
          22818.05866326595,
          22818.05866326595,
          22901.452014798273,
          22905.841138563133,
          22905.841138563133,
          22905.841138563133,
          22905.841138563133,
          22905.841138563133,
          23344.753515049048,
          23344.753515049048,
          23344.753515049048,
          23344.753515049048,
          23443.069887381895,
          23695.883416237783,
          23782.788066781995,
          23783.665891534965,
          23783.665891534965,
          23783.665891534965,
          23783.665891534965,
          23783.665891534965,
          23978.542986694712,
          24222.578268020883,
          24266.469505669476,
          24441.15663151087,
          24485.92569391243,
          24661.4906445068,
          24661.4906445068,
          24661.4906445068,
          24924.83807039835,
          25100.403020992715,
          25210.131115114196,
          25323.37050824756,
          25363.750446884267,
          25451.53292218145,
          25534.926273713772,
          25534.926273713772,
          25537.55974797269,
          25538.437572725663,
          25539.315397478633,
          25978.22777396455,
          26057.232001732016,
          26057.232001732016,
          26329.357675153282,
          26329.357675153282,
          26329.357675153282,
          26412.751026685608,
          26412.751026685608,
          26415.384500944525,
          26415.384500944525,
          26416.262325697495,
          26856.052526936382,
          26965.780621057864,
          27193.137232077566,
          27207.182428125117,
          27207.182428125117,
          27207.182428125117,
          27229.128046949412,
          27283.553181633666,
          27294.9649034223,
          27294.9649034223,
          27294.9649034223,
          27294.9649034223,
          27294.9649034223,
          27294.9649034223,
          27294.9649034223,
          27404.692997543778,
          27547.778432278188,
          27720.70990861364,
          27731.2438056493,
          27733.877279908218,
          27733.877279908218,
          27733.877279908218,
          27820.781930452427,
          27820.781930452427,
          27901.541807725836,
          27953.333468151177,
          28128.898418745543,
          28171.911831641162,
          28172.789656394136,
          28480.028319934278,
          28567.81079523146,
          28610.82420812708,
          28611.70203288005,
          28611.70203288005,
          28611.70203288005,
          28611.70203288005,
          28611.70203288005,
          28698.606683424263,
          28728.452725025305,
          28831.15822112301,
          28873.29380926566,
          28940.88631524449,
          28962.831934068785,
          28962.831934068785,
          29006.723171717374,
          29049.736584612994,
          29050.614409365968,
          29050.614409365968,
          29050.614409365968,
          29270.070597608927,
          29312.206185751573,
          29445.635548203292,
          29488.648961098912,
          29489.526785851886,
          29489.526785851886,
          29489.526785851886,
          29489.526785851886,
          29836.26756327576,
          29845.923635558447,
          29927.56133758483,
          29928.4391623378,
          29928.4391623378,
          29928.4391623378,
          29928.4391623378,
          29928.4391623378,
          29928.4391623378,
          30367.351538823717,
          30367.351538823717,
          30467.423560662508,
          30714.092316247592,
          30762.372677661042,
          30762.372677661042,
          30797.485667779918,
          30797.485667779918,
          30804.50826580369,
          30804.50826580369,
          30804.50826580369,
          30805.38609055666,
          30805.38609055666,
          30806.263915309635,
          30806.263915309635,
          30806.263915309635,
          30806.263915309635,
          30806.263915309635,
          30806.263915309635,
          30806.263915309635,
          30806.263915309635,
          31047.66572237689,
          31245.176291795553,
          31245.176291795553,
          31245.176291795553,
          31332.080942339762,
          31612.98486329075,
          31640.197430632878,
          31675.31042075175,
          31683.210843528497,
          31684.088668281467,
          31684.088668281467,
          32017.662074410764,
          32209.905695311598,
          32298.56599536175,
          32342.457233010344,
          32474.13094595612,
          32474.13094595612,
          32553.135173723585,
          32561.913421253303,
          32561.913421253303,
          32561.913421253303,
          32561.913421253303,
          32781.369609496265,
          32846.328641216176,
          33000.82579773922,
          33000.82579773922,
          33220.281985982176,
          33236.96065628865,
          33308.06446127936,
          33351.95569892795,
          33363.36742071659,
          33439.73817422513,
          33439.73817422513,
          33439.73817422513,
          33439.73817422513,
          33439.73817422513,
          33694.30735258697,
          33799.64632294359,
          33964.677376502295,
          34216.61308060521,
          34220.1243796171,
          34313.17380343211,
          34317.56292719697,
          34317.56292719697,
          34317.56292719697,
          34391.3002064466,
          34756.475303682884,
          35123.40605042511,
          35190.998556403945,
          35193.63203066286,
          35194.50985541583,
          35194.50985541583,
          35195.3876801688,
          35195.3876801688,
          35195.3876801688,
          35195.3876801688,
          35195.3876801688,
          35684.33606757411,
          35783.53026465993,
          35853.75624489768,
          36072.33460838767,
          36072.33460838767,
          36073.21243314064,
          36073.21243314064,
          36336.55985903219,
          36512.12480962655,
          36775.4722355181,
          36845.69821575585,
          36863.25471081529,
          36946.64806234761,
          36951.03718611247,
          36951.03718611247,
          36951.03718611247,
          36951.03718611247,
          36994.92842376106,
          37214.384612004025,
          37306.55621106607,
          37389.94956259838,
          37389.94956259838,
          37741.079463787115,
          37827.98411433134,
          37828.86193908431,
          37828.86193908431,
          37833.25106284916,
          37912.255290616624,
          38267.77431557022,
          38267.77431557022,
          38353.80114136146,
          38353.80114136146,
          38353.80114136146,
          38353.80114136146,
          38514.4430711553,
          38601.34772169952,
          38618.90421675895,
          38702.29756829128,
          38704.93104255019,
          38706.686692056144,
          39145.599068542055,
          39232.503719086264,
          39277.27278148783,
          39482.68377368324,
          39496.728969730786,
          39496.728969730786,
          39540.62020737938,
          39575.73319749825,
          39582.755795522025,
          39584.511445027965,
          39584.511445027965,
          39584.511445027965,
          39584.511445027965,
          40023.42382151389,
          40285.01559789949,
          40364.019825666954,
          40418.44496035122,
          40460.58054849386,
          40460.58054849386,
          40461.45837324683,
          40462.3361979998,
          40751.14054172754,
          40901.248574485726,
          40901.248574485726,
          40901.248574485726,
          40901.248574485726,
          40987.275400276965,
          41340.160950971636,
          41340.160950971636,
          41340.160950971636,
          41340.160950971636,
          41552.59454119082,
          41728.15949178519,
          41779.07332745756,
          41779.07332745756,
          41779.07332745756,
          41779.07332745756,
          41858.07755522503,
          41865.1001532488,
          42042.4207533491,
          42117.913682104685,
          42130.20322864629,
          42174.094466294875,
          42217.1078791905,
          42217.1078791905,
          42595.45034772136,
          42656.89808042938,
          42700.78931807798,
          42743.802730973606,
          42898.29988749664,
          43008.02798161813,
          43094.93263216234,
          43094.93263216234,
          43095.81045691531,
          43095.81045691531,
          43095.81045691531,
          43095.81045691531,
          43534.72283340122,
          43626.89443246326,
          43776.12464046848,
          43796.31460978683,
          43841.96149694137,
          43875.318837554296,
          43885.85273458995,
          43971.87956038119,
          43972.75738513417,
          43973.63520988714,
          43973.63520988714,
          44425.71495766763,
          44762.799662808815,
          44807.56872521038,
          44838.2925915644,
          44850.582138105994,
          44850.582138105994,
          44851.45996285898,
          44851.45996285898,
          44943.63156192102,
          45290.37233934489,
          45290.37233934489,
          45376.39916513613,
          45377.2769898891,
          45641.50224053362,
          45641.50224053362,
          45728.40689107783,
          45728.40689107783,
          45917.13921296678,
          46168.197092316725,
          46254.223918107964,
          46295.48168149764,
          46429.78886870232,
          46563.21823115405,
          46605.353819296695,
          46607.109468802635,
          46607.109468802635,
          46737.90535699544,
          47046.02184528856,
          47046.02184528856,
          47441.04298412589,
          47923.846598260396,
          47923.846598260396,
          48010.751248804605,
          48274.97649944913,
          48274.97649944913,
          48358.36985098144,
          48361.881149993336,
          48362.758974746306,
          48362.758974746306,
          48362.758974746306,
          48362.758974746306,
          48362.758974746306,
          49176.50252075119,
          49240.58372771814,
          50074.51724304138,
          50117.53065593701,
          50118.40848068998,
          50118.40848068998,
          50118.40848068998,
          50557.32085717589,
          50557.32085717589,
          50636.32508494335,
          50684.6054463568,
          50996.23323366181,
          50996.23323366181,
          50996.23323366181,
          51630.02270530748,
          51874.05798663365,
          52304.192115589845,
          52312.97036311956,
          52350.71682749735,
          52576.31778901111,
          52664.10026430829,
          52664.10026430829,
          52664.10026430829,
          52664.10026430829,
          52751.88273960547,
          52751.88273960547,
          52751.88273960547,
          53155.68212597251,
          53190.795116091394,
          53627.951843071365,
          53629.707492577305,
          54419.74977025196,
          54816.52655859523,
          55385.356998520976,
          56263.18175149281,
          56263.18175149281,
          56614.31165268154,
          56702.09412797872,
          56781.09835574619,
          56788.12095376996,
          56921.55031622168,
          57053.22402916745,
          57097.11526681605,
          57141.00650446465,
          57141.00650446465,
          57141.00650446465,
          57579.91888095056,
          58014.44213367162,
          58017.9534326835,
          58018.83125743648,
          58018.83125743648,
          58457.74363392239,
          58894.900360902364,
          58896.656010408304,
          58896.656010408304,
          59335.56838689423,
          59773.60293862717,
          59774.48076338014,
          59862.26323867733,
          60213.393139866064,
          60213.393139866064,
          60564.523041054796,
          60652.305516351975,
          60652.305516351975,
          60871.76170459493,
          60905.11904520786,
          61354.56531872944,
          61521.3520217941,
          61525.741145558946,
          61530.13026932381,
          61530.13026932381,
          61530.13026932381,
          61969.04264580972,
          62399.17677476593,
          62402.68807377781,
          63284.02412576153,
          65014.21671386901,
          65041.42928121114,
          65041.42928121114,
          65260.88546945411,
          65480.34165769706,
          65734.91083605889,
          65914.86491041812,
          65914.86491041812,
          65914.86491041812,
          65917.49838467703,
          65918.37620943,
          65919.25403418297,
          66138.71022242594,
          66796.20096240184,
          66797.07878715481,
          67587.12106482947,
          68172.63017506167,
          68356.97337318576,
          68548.33916933362,
          69079.42314488158,
          69340.13709651421,
          70220.59532374497,
          70220.59532374497,
          70220.59532374497,
          70308.37779904215,
          70308.37779904215,
          70308.37779904215,
          70746.41235077509,
          71625.1149284999,
          72533.66354782575,
          72941.85205795766,
          72941.85205795766,
          73249.09072149779,
          73731.8943356323,
          74696.62373914834,
          74696.62373914834,
          74697.50156390131,
          74820.39702931738,
          76014.23869335908,
          76365.3685945478,
          77330.97582281682,
          77330.97582281682,
          77769.88819930273,
          78121.01810049146,
          78207.0449262827,
          78208.80057578866,
          78208.80057578866,
          78774.99754145548,
          78998.8428534633,
          79083.99185450157,
          79086.62532876049,
          79086.62532876049,
          79920.55884408373,
          80754.49235940697,
          80973.94854764992,
          81281.18721119007,
          82597.92434064782,
          84353.57384659149,
          84792.4862230774,
          85143.61612426613,
          85231.39859956333,
          85231.39859956333,
          85670.31097604924,
          86109.22335253516,
          87863.99503372585,
          87864.87285847882,
          88374.01121520248,
          89488.84865147671,
          89532.73988912531,
          89618.76671491655,
          90498.34711739433,
          90498.34711739433,
          91376.17187036616,
          92166.2141480408,
          94887.47088225349,
          95765.29563522532,
          96555.33791289998,
          96642.24256344419,
          97082.03276468307,
          100066.63692478731,
          102787.893659,
          103665.71841197183,
          105419.61226840955,
          106298.31484613435,
          107615.92980034508,
          114190.83720010411,
          114989.65772530848,
          117623.13198422398,
          117710.91445952117,
          118588.739212493,
          118588.739212493,
          126928.07436572542,
          131756.1105070705,
          135706.32189544375,
          136145.23427192966,
          137813.10130257613,
          141148.83536386912,
          142728.9199192184,
          150980.47259715365,
          155457.37883730998,
          170292.61716253398,
          175647.34815566216,
          188814.71945023967,
          194959.4927210425,
          202859.915497789,
          206283.43203437916,
          218572.97857598483,
          219447.29202994477,
          228229.050858675,
          232267.04472234542,
          239684.66388495744,
          241476.30420577293,
          245873.32839340885,
          280986.3185122822,
          311666.2936286478,
          320480.531973238,
          425823.0136288699
         ],
         "yaxis": "y"
        }
       ],
       "layout": {
        "legend": {
         "tracegroupgap": 0
        },
        "shapes": [
         {
          "line": {
           "color": "red",
           "dash": "dash"
          },
          "name": "Perfect Prediction",
          "type": "line",
          "x0": 2800,
          "x1": 479995,
          "y0": 2800,
          "y1": 479995
         }
        ],
        "template": {
         "data": {
          "bar": [
           {
            "error_x": {
             "color": "#2a3f5f"
            },
            "error_y": {
             "color": "#2a3f5f"
            },
            "marker": {
             "line": {
              "color": "#E5ECF6",
              "width": 0.5
             },
             "pattern": {
              "fillmode": "overlay",
              "size": 10,
              "solidity": 0.2
             }
            },
            "type": "bar"
           }
          ],
          "barpolar": [
           {
            "marker": {
             "line": {
              "color": "#E5ECF6",
              "width": 0.5
             },
             "pattern": {
              "fillmode": "overlay",
              "size": 10,
              "solidity": 0.2
             }
            },
            "type": "barpolar"
           }
          ],
          "carpet": [
           {
            "aaxis": {
             "endlinecolor": "#2a3f5f",
             "gridcolor": "white",
             "linecolor": "white",
             "minorgridcolor": "white",
             "startlinecolor": "#2a3f5f"
            },
            "baxis": {
             "endlinecolor": "#2a3f5f",
             "gridcolor": "white",
             "linecolor": "white",
             "minorgridcolor": "white",
             "startlinecolor": "#2a3f5f"
            },
            "type": "carpet"
           }
          ],
          "choropleth": [
           {
            "colorbar": {
             "outlinewidth": 0,
             "ticks": ""
            },
            "type": "choropleth"
           }
          ],
          "contour": [
           {
            "colorbar": {
             "outlinewidth": 0,
             "ticks": ""
            },
            "colorscale": [
             [
              0,
              "#0d0887"
             ],
             [
              0.1111111111111111,
              "#46039f"
             ],
             [
              0.2222222222222222,
              "#7201a8"
             ],
             [
              0.3333333333333333,
              "#9c179e"
             ],
             [
              0.4444444444444444,
              "#bd3786"
             ],
             [
              0.5555555555555556,
              "#d8576b"
             ],
             [
              0.6666666666666666,
              "#ed7953"
             ],
             [
              0.7777777777777778,
              "#fb9f3a"
             ],
             [
              0.8888888888888888,
              "#fdca26"
             ],
             [
              1,
              "#f0f921"
             ]
            ],
            "type": "contour"
           }
          ],
          "contourcarpet": [
           {
            "colorbar": {
             "outlinewidth": 0,
             "ticks": ""
            },
            "type": "contourcarpet"
           }
          ],
          "heatmap": [
           {
            "colorbar": {
             "outlinewidth": 0,
             "ticks": ""
            },
            "colorscale": [
             [
              0,
              "#0d0887"
             ],
             [
              0.1111111111111111,
              "#46039f"
             ],
             [
              0.2222222222222222,
              "#7201a8"
             ],
             [
              0.3333333333333333,
              "#9c179e"
             ],
             [
              0.4444444444444444,
              "#bd3786"
             ],
             [
              0.5555555555555556,
              "#d8576b"
             ],
             [
              0.6666666666666666,
              "#ed7953"
             ],
             [
              0.7777777777777778,
              "#fb9f3a"
             ],
             [
              0.8888888888888888,
              "#fdca26"
             ],
             [
              1,
              "#f0f921"
             ]
            ],
            "type": "heatmap"
           }
          ],
          "heatmapgl": [
           {
            "colorbar": {
             "outlinewidth": 0,
             "ticks": ""
            },
            "colorscale": [
             [
              0,
              "#0d0887"
             ],
             [
              0.1111111111111111,
              "#46039f"
             ],
             [
              0.2222222222222222,
              "#7201a8"
             ],
             [
              0.3333333333333333,
              "#9c179e"
             ],
             [
              0.4444444444444444,
              "#bd3786"
             ],
             [
              0.5555555555555556,
              "#d8576b"
             ],
             [
              0.6666666666666666,
              "#ed7953"
             ],
             [
              0.7777777777777778,
              "#fb9f3a"
             ],
             [
              0.8888888888888888,
              "#fdca26"
             ],
             [
              1,
              "#f0f921"
             ]
            ],
            "type": "heatmapgl"
           }
          ],
          "histogram": [
           {
            "marker": {
             "pattern": {
              "fillmode": "overlay",
              "size": 10,
              "solidity": 0.2
             }
            },
            "type": "histogram"
           }
          ],
          "histogram2d": [
           {
            "colorbar": {
             "outlinewidth": 0,
             "ticks": ""
            },
            "colorscale": [
             [
              0,
              "#0d0887"
             ],
             [
              0.1111111111111111,
              "#46039f"
             ],
             [
              0.2222222222222222,
              "#7201a8"
             ],
             [
              0.3333333333333333,
              "#9c179e"
             ],
             [
              0.4444444444444444,
              "#bd3786"
             ],
             [
              0.5555555555555556,
              "#d8576b"
             ],
             [
              0.6666666666666666,
              "#ed7953"
             ],
             [
              0.7777777777777778,
              "#fb9f3a"
             ],
             [
              0.8888888888888888,
              "#fdca26"
             ],
             [
              1,
              "#f0f921"
             ]
            ],
            "type": "histogram2d"
           }
          ],
          "histogram2dcontour": [
           {
            "colorbar": {
             "outlinewidth": 0,
             "ticks": ""
            },
            "colorscale": [
             [
              0,
              "#0d0887"
             ],
             [
              0.1111111111111111,
              "#46039f"
             ],
             [
              0.2222222222222222,
              "#7201a8"
             ],
             [
              0.3333333333333333,
              "#9c179e"
             ],
             [
              0.4444444444444444,
              "#bd3786"
             ],
             [
              0.5555555555555556,
              "#d8576b"
             ],
             [
              0.6666666666666666,
              "#ed7953"
             ],
             [
              0.7777777777777778,
              "#fb9f3a"
             ],
             [
              0.8888888888888888,
              "#fdca26"
             ],
             [
              1,
              "#f0f921"
             ]
            ],
            "type": "histogram2dcontour"
           }
          ],
          "mesh3d": [
           {
            "colorbar": {
             "outlinewidth": 0,
             "ticks": ""
            },
            "type": "mesh3d"
           }
          ],
          "parcoords": [
           {
            "line": {
             "colorbar": {
              "outlinewidth": 0,
              "ticks": ""
             }
            },
            "type": "parcoords"
           }
          ],
          "pie": [
           {
            "automargin": true,
            "type": "pie"
           }
          ],
          "scatter": [
           {
            "fillpattern": {
             "fillmode": "overlay",
             "size": 10,
             "solidity": 0.2
            },
            "type": "scatter"
           }
          ],
          "scatter3d": [
           {
            "line": {
             "colorbar": {
              "outlinewidth": 0,
              "ticks": ""
             }
            },
            "marker": {
             "colorbar": {
              "outlinewidth": 0,
              "ticks": ""
             }
            },
            "type": "scatter3d"
           }
          ],
          "scattercarpet": [
           {
            "marker": {
             "colorbar": {
              "outlinewidth": 0,
              "ticks": ""
             }
            },
            "type": "scattercarpet"
           }
          ],
          "scattergeo": [
           {
            "marker": {
             "colorbar": {
              "outlinewidth": 0,
              "ticks": ""
             }
            },
            "type": "scattergeo"
           }
          ],
          "scattergl": [
           {
            "marker": {
             "colorbar": {
              "outlinewidth": 0,
              "ticks": ""
             }
            },
            "type": "scattergl"
           }
          ],
          "scattermapbox": [
           {
            "marker": {
             "colorbar": {
              "outlinewidth": 0,
              "ticks": ""
             }
            },
            "type": "scattermapbox"
           }
          ],
          "scatterpolar": [
           {
            "marker": {
             "colorbar": {
              "outlinewidth": 0,
              "ticks": ""
             }
            },
            "type": "scatterpolar"
           }
          ],
          "scatterpolargl": [
           {
            "marker": {
             "colorbar": {
              "outlinewidth": 0,
              "ticks": ""
             }
            },
            "type": "scatterpolargl"
           }
          ],
          "scatterternary": [
           {
            "marker": {
             "colorbar": {
              "outlinewidth": 0,
              "ticks": ""
             }
            },
            "type": "scatterternary"
           }
          ],
          "surface": [
           {
            "colorbar": {
             "outlinewidth": 0,
             "ticks": ""
            },
            "colorscale": [
             [
              0,
              "#0d0887"
             ],
             [
              0.1111111111111111,
              "#46039f"
             ],
             [
              0.2222222222222222,
              "#7201a8"
             ],
             [
              0.3333333333333333,
              "#9c179e"
             ],
             [
              0.4444444444444444,
              "#bd3786"
             ],
             [
              0.5555555555555556,
              "#d8576b"
             ],
             [
              0.6666666666666666,
              "#ed7953"
             ],
             [
              0.7777777777777778,
              "#fb9f3a"
             ],
             [
              0.8888888888888888,
              "#fdca26"
             ],
             [
              1,
              "#f0f921"
             ]
            ],
            "type": "surface"
           }
          ],
          "table": [
           {
            "cells": {
             "fill": {
              "color": "#EBF0F8"
             },
             "line": {
              "color": "white"
             }
            },
            "header": {
             "fill": {
              "color": "#C8D4E3"
             },
             "line": {
              "color": "white"
             }
            },
            "type": "table"
           }
          ]
         },
         "layout": {
          "annotationdefaults": {
           "arrowcolor": "#2a3f5f",
           "arrowhead": 0,
           "arrowwidth": 1
          },
          "autotypenumbers": "strict",
          "coloraxis": {
           "colorbar": {
            "outlinewidth": 0,
            "ticks": ""
           }
          },
          "colorscale": {
           "diverging": [
            [
             0,
             "#8e0152"
            ],
            [
             0.1,
             "#c51b7d"
            ],
            [
             0.2,
             "#de77ae"
            ],
            [
             0.3,
             "#f1b6da"
            ],
            [
             0.4,
             "#fde0ef"
            ],
            [
             0.5,
             "#f7f7f7"
            ],
            [
             0.6,
             "#e6f5d0"
            ],
            [
             0.7,
             "#b8e186"
            ],
            [
             0.8,
             "#7fbc41"
            ],
            [
             0.9,
             "#4d9221"
            ],
            [
             1,
             "#276419"
            ]
           ],
           "sequential": [
            [
             0,
             "#0d0887"
            ],
            [
             0.1111111111111111,
             "#46039f"
            ],
            [
             0.2222222222222222,
             "#7201a8"
            ],
            [
             0.3333333333333333,
             "#9c179e"
            ],
            [
             0.4444444444444444,
             "#bd3786"
            ],
            [
             0.5555555555555556,
             "#d8576b"
            ],
            [
             0.6666666666666666,
             "#ed7953"
            ],
            [
             0.7777777777777778,
             "#fb9f3a"
            ],
            [
             0.8888888888888888,
             "#fdca26"
            ],
            [
             1,
             "#f0f921"
            ]
           ],
           "sequentialminus": [
            [
             0,
             "#0d0887"
            ],
            [
             0.1111111111111111,
             "#46039f"
            ],
            [
             0.2222222222222222,
             "#7201a8"
            ],
            [
             0.3333333333333333,
             "#9c179e"
            ],
            [
             0.4444444444444444,
             "#bd3786"
            ],
            [
             0.5555555555555556,
             "#d8576b"
            ],
            [
             0.6666666666666666,
             "#ed7953"
            ],
            [
             0.7777777777777778,
             "#fb9f3a"
            ],
            [
             0.8888888888888888,
             "#fdca26"
            ],
            [
             1,
             "#f0f921"
            ]
           ]
          },
          "colorway": [
           "#636efa",
           "#EF553B",
           "#00cc96",
           "#ab63fa",
           "#FFA15A",
           "#19d3f3",
           "#FF6692",
           "#B6E880",
           "#FF97FF",
           "#FECB52"
          ],
          "font": {
           "color": "#2a3f5f"
          },
          "geo": {
           "bgcolor": "white",
           "lakecolor": "white",
           "landcolor": "#E5ECF6",
           "showlakes": true,
           "showland": true,
           "subunitcolor": "white"
          },
          "hoverlabel": {
           "align": "left"
          },
          "hovermode": "closest",
          "mapbox": {
           "style": "light"
          },
          "paper_bgcolor": "white",
          "plot_bgcolor": "#E5ECF6",
          "polar": {
           "angularaxis": {
            "gridcolor": "white",
            "linecolor": "white",
            "ticks": ""
           },
           "bgcolor": "#E5ECF6",
           "radialaxis": {
            "gridcolor": "white",
            "linecolor": "white",
            "ticks": ""
           }
          },
          "scene": {
           "xaxis": {
            "backgroundcolor": "#E5ECF6",
            "gridcolor": "white",
            "gridwidth": 2,
            "linecolor": "white",
            "showbackground": true,
            "ticks": "",
            "zerolinecolor": "white"
           },
           "yaxis": {
            "backgroundcolor": "#E5ECF6",
            "gridcolor": "white",
            "gridwidth": 2,
            "linecolor": "white",
            "showbackground": true,
            "ticks": "",
            "zerolinecolor": "white"
           },
           "zaxis": {
            "backgroundcolor": "#E5ECF6",
            "gridcolor": "white",
            "gridwidth": 2,
            "linecolor": "white",
            "showbackground": true,
            "ticks": "",
            "zerolinecolor": "white"
           }
          },
          "shapedefaults": {
           "line": {
            "color": "#2a3f5f"
           }
          },
          "ternary": {
           "aaxis": {
            "gridcolor": "white",
            "linecolor": "white",
            "ticks": ""
           },
           "baxis": {
            "gridcolor": "white",
            "linecolor": "white",
            "ticks": ""
           },
           "bgcolor": "#E5ECF6",
           "caxis": {
            "gridcolor": "white",
            "linecolor": "white",
            "ticks": ""
           }
          },
          "title": {
           "x": 0.05
          },
          "xaxis": {
           "automargin": true,
           "gridcolor": "white",
           "linecolor": "white",
           "ticks": "",
           "title": {
            "standoff": 15
           },
           "zerolinecolor": "white",
           "zerolinewidth": 2
          },
          "yaxis": {
           "automargin": true,
           "gridcolor": "white",
           "linecolor": "white",
           "ticks": "",
           "title": {
            "standoff": 15
           },
           "zerolinecolor": "white",
           "zerolinewidth": 2
          }
         }
        },
        "title": {
         "text": "Actual vs Predicted Car Prices"
        },
        "xaxis": {
         "anchor": "y",
         "domain": [
          0,
          1
         ],
         "title": {
          "text": "Actual Price ($)"
         }
        },
        "yaxis": {
         "anchor": "x",
         "domain": [
          0,
          1
         ],
         "title": {
          "text": "Predicted Price ($)"
         }
        }
       }
      }
     },
     "metadata": {},
     "output_type": "display_data"
    }
   ],
   "source": [
    "import plotly.express as px\n",
    "import pandas as pd\n",
    "# Create a DataFrame for comparison\n",
    "results_df = pd.DataFrame({\n",
    "    'Actual Price': y_test,\n",
    "    'Predicted Price': y_pred,\n",
    "    'Brand': df.loc[y_test.index, 'brand']\n",
    "})\n",
    "\n",
    "\n",
    "fig = px.scatter(\n",
    "    results_df,\n",
    "    x='Actual Price',\n",
    "    y='Predicted Price',\n",
    "    title='Actual vs Predicted Car Prices',\n",
    "    labels={'Actual Price': 'Actual Price ($)', 'Predicted Price': 'Predicted Price ($)'},\n",
    "    opacity=0.6,\n",
    "    trendline=\"ols\",\n",
    "    hover_name='Brand'\n",
    ")\n",
    "\n",
    "\n",
    "fig.add_shape(\n",
    "    type=\"line\",\n",
    "    x0=results_df['Actual Price'].min(), y0=results_df['Actual Price'].min(),\n",
    "    x1=results_df['Actual Price'].max(), y1=results_df['Actual Price'].max(),\n",
    "    line=dict(color=\"red\", dash=\"dash\"),\n",
    "    name='Perfect Prediction'\n",
    ")\n",
    "\n",
    "\n",
    "fig.show()\n"
   ]
  },
  {
   "cell_type": "code",
   "execution_count": 18,
   "metadata": {},
   "outputs": [
    {
     "data": {
      "application/vnd.plotly.v1+json": {
       "config": {
        "plotlyServerURL": "https://plot.ly"
       },
       "data": [
        {
         "alignmentgroup": "True",
         "hovertemplate": "Brand=%{x}<br>Average % Error=%{y}<extra></extra>",
         "legendgroup": "Rolls-Royce",
         "marker": {
          "color": "#636efa",
          "pattern": {
           "shape": ""
          }
         },
         "name": "Rolls-Royce",
         "offsetgroup": "Rolls-Royce",
         "orientation": "v",
         "showlegend": true,
         "textposition": "auto",
         "type": "bar",
         "x": [
          "Rolls-Royce"
         ],
         "xaxis": "x",
         "y": [
          -14.630622635380359
         ],
         "yaxis": "y"
        },
        {
         "alignmentgroup": "True",
         "hovertemplate": "Brand=%{x}<br>Average % Error=%{y}<extra></extra>",
         "legendgroup": "Saab",
         "marker": {
          "color": "#EF553B",
          "pattern": {
           "shape": ""
          }
         },
         "name": "Saab",
         "offsetgroup": "Saab",
         "orientation": "v",
         "showlegend": true,
         "textposition": "auto",
         "type": "bar",
         "x": [
          "Saab"
         ],
         "xaxis": "x",
         "y": [
          -9.292572301750484
         ],
         "yaxis": "y"
        },
        {
         "alignmentgroup": "True",
         "hovertemplate": "Brand=%{x}<br>Average % Error=%{y}<extra></extra>",
         "legendgroup": "Chrysler",
         "marker": {
          "color": "#00cc96",
          "pattern": {
           "shape": ""
          }
         },
         "name": "Chrysler",
         "offsetgroup": "Chrysler",
         "orientation": "v",
         "showlegend": true,
         "textposition": "auto",
         "type": "bar",
         "x": [
          "Chrysler"
         ],
         "xaxis": "x",
         "y": [
          -9.263628396190388
         ],
         "yaxis": "y"
        },
        {
         "alignmentgroup": "True",
         "hovertemplate": "Brand=%{x}<br>Average % Error=%{y}<extra></extra>",
         "legendgroup": "Lotus",
         "marker": {
          "color": "#ab63fa",
          "pattern": {
           "shape": ""
          }
         },
         "name": "Lotus",
         "offsetgroup": "Lotus",
         "orientation": "v",
         "showlegend": true,
         "textposition": "auto",
         "type": "bar",
         "x": [
          "Lotus"
         ],
         "xaxis": "x",
         "y": [
          -7.318470225202006
         ],
         "yaxis": "y"
        },
        {
         "alignmentgroup": "True",
         "hovertemplate": "Brand=%{x}<br>Average % Error=%{y}<extra></extra>",
         "legendgroup": "Scion",
         "marker": {
          "color": "#FFA15A",
          "pattern": {
           "shape": ""
          }
         },
         "name": "Scion",
         "offsetgroup": "Scion",
         "orientation": "v",
         "showlegend": true,
         "textposition": "auto",
         "type": "bar",
         "x": [
          "Scion"
         ],
         "xaxis": "x",
         "y": [
          -5.580831952664196
         ],
         "yaxis": "y"
        },
        {
         "alignmentgroup": "True",
         "hovertemplate": "Brand=%{x}<br>Average % Error=%{y}<extra></extra>",
         "legendgroup": "Dodge",
         "marker": {
          "color": "#19d3f3",
          "pattern": {
           "shape": ""
          }
         },
         "name": "Dodge",
         "offsetgroup": "Dodge",
         "orientation": "v",
         "showlegend": true,
         "textposition": "auto",
         "type": "bar",
         "x": [
          "Dodge"
         ],
         "xaxis": "x",
         "y": [
          -4.423229632700766
         ],
         "yaxis": "y"
        },
        {
         "alignmentgroup": "True",
         "hovertemplate": "Brand=%{x}<br>Average % Error=%{y}<extra></extra>",
         "legendgroup": "Buick",
         "marker": {
          "color": "#FF6692",
          "pattern": {
           "shape": ""
          }
         },
         "name": "Buick",
         "offsetgroup": "Buick",
         "orientation": "v",
         "showlegend": true,
         "textposition": "auto",
         "type": "bar",
         "x": [
          "Buick"
         ],
         "xaxis": "x",
         "y": [
          -3.344745584711216
         ],
         "yaxis": "y"
        },
        {
         "alignmentgroup": "True",
         "hovertemplate": "Brand=%{x}<br>Average % Error=%{y}<extra></extra>",
         "legendgroup": "Maybach",
         "marker": {
          "color": "#B6E880",
          "pattern": {
           "shape": ""
          }
         },
         "name": "Maybach",
         "offsetgroup": "Maybach",
         "orientation": "v",
         "showlegend": true,
         "textposition": "auto",
         "type": "bar",
         "x": [
          "Maybach"
         ],
         "xaxis": "x",
         "y": [
          -2.33408215184906
         ],
         "yaxis": "y"
        },
        {
         "alignmentgroup": "True",
         "hovertemplate": "Brand=%{x}<br>Average % Error=%{y}<extra></extra>",
         "legendgroup": "Genesis",
         "marker": {
          "color": "#FF97FF",
          "pattern": {
           "shape": ""
          }
         },
         "name": "Genesis",
         "offsetgroup": "Genesis",
         "orientation": "v",
         "showlegend": true,
         "textposition": "auto",
         "type": "bar",
         "x": [
          "Genesis"
         ],
         "xaxis": "x",
         "y": [
          -1.0762668754721227
         ],
         "yaxis": "y"
        },
        {
         "alignmentgroup": "True",
         "hovertemplate": "Brand=%{x}<br>Average % Error=%{y}<extra></extra>",
         "legendgroup": "Hyundai",
         "marker": {
          "color": "#FECB52",
          "pattern": {
           "shape": ""
          }
         },
         "name": "Hyundai",
         "offsetgroup": "Hyundai",
         "orientation": "v",
         "showlegend": true,
         "textposition": "auto",
         "type": "bar",
         "x": [
          "Hyundai"
         ],
         "xaxis": "x",
         "y": [
          -0.8392125502843902
         ],
         "yaxis": "y"
        },
        {
         "alignmentgroup": "True",
         "hovertemplate": "Brand=%{x}<br>Average % Error=%{y}<extra></extra>",
         "legendgroup": "Rivian",
         "marker": {
          "color": "#636efa",
          "pattern": {
           "shape": ""
          }
         },
         "name": "Rivian",
         "offsetgroup": "Rivian",
         "orientation": "v",
         "showlegend": true,
         "textposition": "auto",
         "type": "bar",
         "x": [
          "Rivian"
         ],
         "xaxis": "x",
         "y": [
          -0.1627637150689254
         ],
         "yaxis": "y"
        },
        {
         "alignmentgroup": "True",
         "hovertemplate": "Brand=%{x}<br>Average % Error=%{y}<extra></extra>",
         "legendgroup": "Jeep",
         "marker": {
          "color": "#EF553B",
          "pattern": {
           "shape": ""
          }
         },
         "name": "Jeep",
         "offsetgroup": "Jeep",
         "orientation": "v",
         "showlegend": true,
         "textposition": "auto",
         "type": "bar",
         "x": [
          "Jeep"
         ],
         "xaxis": "x",
         "y": [
          0.05169149608566818
         ],
         "yaxis": "y"
        },
        {
         "alignmentgroup": "True",
         "hovertemplate": "Brand=%{x}<br>Average % Error=%{y}<extra></extra>",
         "legendgroup": "Tesla",
         "marker": {
          "color": "#00cc96",
          "pattern": {
           "shape": ""
          }
         },
         "name": "Tesla",
         "offsetgroup": "Tesla",
         "orientation": "v",
         "showlegend": true,
         "textposition": "auto",
         "type": "bar",
         "x": [
          "Tesla"
         ],
         "xaxis": "x",
         "y": [
          0.10969428384058073
         ],
         "yaxis": "y"
        },
        {
         "alignmentgroup": "True",
         "hovertemplate": "Brand=%{x}<br>Average % Error=%{y}<extra></extra>",
         "legendgroup": "Chevrolet",
         "marker": {
          "color": "#ab63fa",
          "pattern": {
           "shape": ""
          }
         },
         "name": "Chevrolet",
         "offsetgroup": "Chevrolet",
         "orientation": "v",
         "showlegend": true,
         "textposition": "auto",
         "type": "bar",
         "x": [
          "Chevrolet"
         ],
         "xaxis": "x",
         "y": [
          0.23381640711767862
         ],
         "yaxis": "y"
        },
        {
         "alignmentgroup": "True",
         "hovertemplate": "Brand=%{x}<br>Average % Error=%{y}<extra></extra>",
         "legendgroup": "Acura",
         "marker": {
          "color": "#FFA15A",
          "pattern": {
           "shape": ""
          }
         },
         "name": "Acura",
         "offsetgroup": "Acura",
         "orientation": "v",
         "showlegend": true,
         "textposition": "auto",
         "type": "bar",
         "x": [
          "Acura"
         ],
         "xaxis": "x",
         "y": [
          0.4369304140710046
         ],
         "yaxis": "y"
        },
        {
         "alignmentgroup": "True",
         "hovertemplate": "Brand=%{x}<br>Average % Error=%{y}<extra></extra>",
         "legendgroup": "Ferrari",
         "marker": {
          "color": "#19d3f3",
          "pattern": {
           "shape": ""
          }
         },
         "name": "Ferrari",
         "offsetgroup": "Ferrari",
         "orientation": "v",
         "showlegend": true,
         "textposition": "auto",
         "type": "bar",
         "x": [
          "Ferrari"
         ],
         "xaxis": "x",
         "y": [
          0.5118772792055875
         ],
         "yaxis": "y"
        },
        {
         "alignmentgroup": "True",
         "hovertemplate": "Brand=%{x}<br>Average % Error=%{y}<extra></extra>",
         "legendgroup": "Mitsubishi",
         "marker": {
          "color": "#FF6692",
          "pattern": {
           "shape": ""
          }
         },
         "name": "Mitsubishi",
         "offsetgroup": "Mitsubishi",
         "orientation": "v",
         "showlegend": true,
         "textposition": "auto",
         "type": "bar",
         "x": [
          "Mitsubishi"
         ],
         "xaxis": "x",
         "y": [
          0.8002520497635682
         ],
         "yaxis": "y"
        },
        {
         "alignmentgroup": "True",
         "hovertemplate": "Brand=%{x}<br>Average % Error=%{y}<extra></extra>",
         "legendgroup": "Mercedes-Benz",
         "marker": {
          "color": "#B6E880",
          "pattern": {
           "shape": ""
          }
         },
         "name": "Mercedes-Benz",
         "offsetgroup": "Mercedes-Benz",
         "orientation": "v",
         "showlegend": true,
         "textposition": "auto",
         "type": "bar",
         "x": [
          "Mercedes-Benz"
         ],
         "xaxis": "x",
         "y": [
          1.1789108995506021
         ],
         "yaxis": "y"
        },
        {
         "alignmentgroup": "True",
         "hovertemplate": "Brand=%{x}<br>Average % Error=%{y}<extra></extra>",
         "legendgroup": "Aston",
         "marker": {
          "color": "#FF97FF",
          "pattern": {
           "shape": ""
          }
         },
         "name": "Aston",
         "offsetgroup": "Aston",
         "orientation": "v",
         "showlegend": true,
         "textposition": "auto",
         "type": "bar",
         "x": [
          "Aston"
         ],
         "xaxis": "x",
         "y": [
          1.3891364841550844
         ],
         "yaxis": "y"
        },
        {
         "alignmentgroup": "True",
         "hovertemplate": "Brand=%{x}<br>Average % Error=%{y}<extra></extra>",
         "legendgroup": "Ford",
         "marker": {
          "color": "#FECB52",
          "pattern": {
           "shape": ""
          }
         },
         "name": "Ford",
         "offsetgroup": "Ford",
         "orientation": "v",
         "showlegend": true,
         "textposition": "auto",
         "type": "bar",
         "x": [
          "Ford"
         ],
         "xaxis": "x",
         "y": [
          1.4695793623550102
         ],
         "yaxis": "y"
        },
        {
         "alignmentgroup": "True",
         "hovertemplate": "Brand=%{x}<br>Average % Error=%{y}<extra></extra>",
         "legendgroup": "Saturn",
         "marker": {
          "color": "#636efa",
          "pattern": {
           "shape": ""
          }
         },
         "name": "Saturn",
         "offsetgroup": "Saturn",
         "orientation": "v",
         "showlegend": true,
         "textposition": "auto",
         "type": "bar",
         "x": [
          "Saturn"
         ],
         "xaxis": "x",
         "y": [
          1.525135642135617
         ],
         "yaxis": "y"
        },
        {
         "alignmentgroup": "True",
         "hovertemplate": "Brand=%{x}<br>Average % Error=%{y}<extra></extra>",
         "legendgroup": "Volvo",
         "marker": {
          "color": "#EF553B",
          "pattern": {
           "shape": ""
          }
         },
         "name": "Volvo",
         "offsetgroup": "Volvo",
         "orientation": "v",
         "showlegend": true,
         "textposition": "auto",
         "type": "bar",
         "x": [
          "Volvo"
         ],
         "xaxis": "x",
         "y": [
          1.5812567099263974
         ],
         "yaxis": "y"
        },
        {
         "alignmentgroup": "True",
         "hovertemplate": "Brand=%{x}<br>Average % Error=%{y}<extra></extra>",
         "legendgroup": "Lexus",
         "marker": {
          "color": "#00cc96",
          "pattern": {
           "shape": ""
          }
         },
         "name": "Lexus",
         "offsetgroup": "Lexus",
         "orientation": "v",
         "showlegend": true,
         "textposition": "auto",
         "type": "bar",
         "x": [
          "Lexus"
         ],
         "xaxis": "x",
         "y": [
          2.2446920800827277
         ],
         "yaxis": "y"
        },
        {
         "alignmentgroup": "True",
         "hovertemplate": "Brand=%{x}<br>Average % Error=%{y}<extra></extra>",
         "legendgroup": "smart",
         "marker": {
          "color": "#ab63fa",
          "pattern": {
           "shape": ""
          }
         },
         "name": "smart",
         "offsetgroup": "smart",
         "orientation": "v",
         "showlegend": true,
         "textposition": "auto",
         "type": "bar",
         "x": [
          "smart"
         ],
         "xaxis": "x",
         "y": [
          2.604001544011553
         ],
         "yaxis": "y"
        },
        {
         "alignmentgroup": "True",
         "hovertemplate": "Brand=%{x}<br>Average % Error=%{y}<extra></extra>",
         "legendgroup": "Audi",
         "marker": {
          "color": "#FFA15A",
          "pattern": {
           "shape": ""
          }
         },
         "name": "Audi",
         "offsetgroup": "Audi",
         "orientation": "v",
         "showlegend": true,
         "textposition": "auto",
         "type": "bar",
         "x": [
          "Audi"
         ],
         "xaxis": "x",
         "y": [
          3.1530680110211105
         ],
         "yaxis": "y"
        },
        {
         "alignmentgroup": "True",
         "hovertemplate": "Brand=%{x}<br>Average % Error=%{y}<extra></extra>",
         "legendgroup": "MINI",
         "marker": {
          "color": "#19d3f3",
          "pattern": {
           "shape": ""
          }
         },
         "name": "MINI",
         "offsetgroup": "MINI",
         "orientation": "v",
         "showlegend": true,
         "textposition": "auto",
         "type": "bar",
         "x": [
          "MINI"
         ],
         "xaxis": "x",
         "y": [
          3.167276351736778
         ],
         "yaxis": "y"
        },
        {
         "alignmentgroup": "True",
         "hovertemplate": "Brand=%{x}<br>Average % Error=%{y}<extra></extra>",
         "legendgroup": "Lamborghini",
         "marker": {
          "color": "#FF6692",
          "pattern": {
           "shape": ""
          }
         },
         "name": "Lamborghini",
         "offsetgroup": "Lamborghini",
         "orientation": "v",
         "showlegend": true,
         "textposition": "auto",
         "type": "bar",
         "x": [
          "Lamborghini"
         ],
         "xaxis": "x",
         "y": [
          3.4291437608068684
         ],
         "yaxis": "y"
        },
        {
         "alignmentgroup": "True",
         "hovertemplate": "Brand=%{x}<br>Average % Error=%{y}<extra></extra>",
         "legendgroup": "Porsche",
         "marker": {
          "color": "#B6E880",
          "pattern": {
           "shape": ""
          }
         },
         "name": "Porsche",
         "offsetgroup": "Porsche",
         "orientation": "v",
         "showlegend": true,
         "textposition": "auto",
         "type": "bar",
         "x": [
          "Porsche"
         ],
         "xaxis": "x",
         "y": [
          3.6740505497148126
         ],
         "yaxis": "y"
        },
        {
         "alignmentgroup": "True",
         "hovertemplate": "Brand=%{x}<br>Average % Error=%{y}<extra></extra>",
         "legendgroup": "Jaguar",
         "marker": {
          "color": "#FF97FF",
          "pattern": {
           "shape": ""
          }
         },
         "name": "Jaguar",
         "offsetgroup": "Jaguar",
         "orientation": "v",
         "showlegend": true,
         "textposition": "auto",
         "type": "bar",
         "x": [
          "Jaguar"
         ],
         "xaxis": "x",
         "y": [
          3.867241107893032
         ],
         "yaxis": "y"
        },
        {
         "alignmentgroup": "True",
         "hovertemplate": "Brand=%{x}<br>Average % Error=%{y}<extra></extra>",
         "legendgroup": "GMC",
         "marker": {
          "color": "#FECB52",
          "pattern": {
           "shape": ""
          }
         },
         "name": "GMC",
         "offsetgroup": "GMC",
         "orientation": "v",
         "showlegend": true,
         "textposition": "auto",
         "type": "bar",
         "x": [
          "GMC"
         ],
         "xaxis": "x",
         "y": [
          4.075447357138751
         ],
         "yaxis": "y"
        },
        {
         "alignmentgroup": "True",
         "hovertemplate": "Brand=%{x}<br>Average % Error=%{y}<extra></extra>",
         "legendgroup": "BMW",
         "marker": {
          "color": "#636efa",
          "pattern": {
           "shape": ""
          }
         },
         "name": "BMW",
         "offsetgroup": "BMW",
         "orientation": "v",
         "showlegend": true,
         "textposition": "auto",
         "type": "bar",
         "x": [
          "BMW"
         ],
         "xaxis": "x",
         "y": [
          4.464270840064337
         ],
         "yaxis": "y"
        },
        {
         "alignmentgroup": "True",
         "hovertemplate": "Brand=%{x}<br>Average % Error=%{y}<extra></extra>",
         "legendgroup": "Mazda",
         "marker": {
          "color": "#EF553B",
          "pattern": {
           "shape": ""
          }
         },
         "name": "Mazda",
         "offsetgroup": "Mazda",
         "orientation": "v",
         "showlegend": true,
         "textposition": "auto",
         "type": "bar",
         "x": [
          "Mazda"
         ],
         "xaxis": "x",
         "y": [
          4.567941734914326
         ],
         "yaxis": "y"
        },
        {
         "alignmentgroup": "True",
         "hovertemplate": "Brand=%{x}<br>Average % Error=%{y}<extra></extra>",
         "legendgroup": "Cadillac",
         "marker": {
          "color": "#00cc96",
          "pattern": {
           "shape": ""
          }
         },
         "name": "Cadillac",
         "offsetgroup": "Cadillac",
         "orientation": "v",
         "showlegend": true,
         "textposition": "auto",
         "type": "bar",
         "x": [
          "Cadillac"
         ],
         "xaxis": "x",
         "y": [
          4.740299365332797
         ],
         "yaxis": "y"
        },
        {
         "alignmentgroup": "True",
         "hovertemplate": "Brand=%{x}<br>Average % Error=%{y}<extra></extra>",
         "legendgroup": "RAM",
         "marker": {
          "color": "#ab63fa",
          "pattern": {
           "shape": ""
          }
         },
         "name": "RAM",
         "offsetgroup": "RAM",
         "orientation": "v",
         "showlegend": true,
         "textposition": "auto",
         "type": "bar",
         "x": [
          "RAM"
         ],
         "xaxis": "x",
         "y": [
          4.866027177276926
         ],
         "yaxis": "y"
        },
        {
         "alignmentgroup": "True",
         "hovertemplate": "Brand=%{x}<br>Average % Error=%{y}<extra></extra>",
         "legendgroup": "Karma",
         "marker": {
          "color": "#FFA15A",
          "pattern": {
           "shape": ""
          }
         },
         "name": "Karma",
         "offsetgroup": "Karma",
         "orientation": "v",
         "showlegend": true,
         "textposition": "auto",
         "type": "bar",
         "x": [
          "Karma"
         ],
         "xaxis": "x",
         "y": [
          5.292877934718623
         ],
         "yaxis": "y"
        },
        {
         "alignmentgroup": "True",
         "hovertemplate": "Brand=%{x}<br>Average % Error=%{y}<extra></extra>",
         "legendgroup": "Kia",
         "marker": {
          "color": "#19d3f3",
          "pattern": {
           "shape": ""
          }
         },
         "name": "Kia",
         "offsetgroup": "Kia",
         "orientation": "v",
         "showlegend": true,
         "textposition": "auto",
         "type": "bar",
         "x": [
          "Kia"
         ],
         "xaxis": "x",
         "y": [
          5.483702036568892
         ],
         "yaxis": "y"
        },
        {
         "alignmentgroup": "True",
         "hovertemplate": "Brand=%{x}<br>Average % Error=%{y}<extra></extra>",
         "legendgroup": "Nissan",
         "marker": {
          "color": "#FF6692",
          "pattern": {
           "shape": ""
          }
         },
         "name": "Nissan",
         "offsetgroup": "Nissan",
         "orientation": "v",
         "showlegend": true,
         "textposition": "auto",
         "type": "bar",
         "x": [
          "Nissan"
         ],
         "xaxis": "x",
         "y": [
          5.686281375561683
         ],
         "yaxis": "y"
        },
        {
         "alignmentgroup": "True",
         "hovertemplate": "Brand=%{x}<br>Average % Error=%{y}<extra></extra>",
         "legendgroup": "Lincoln",
         "marker": {
          "color": "#B6E880",
          "pattern": {
           "shape": ""
          }
         },
         "name": "Lincoln",
         "offsetgroup": "Lincoln",
         "orientation": "v",
         "showlegend": true,
         "textposition": "auto",
         "type": "bar",
         "x": [
          "Lincoln"
         ],
         "xaxis": "x",
         "y": [
          5.964177668023035
         ],
         "yaxis": "y"
        },
        {
         "alignmentgroup": "True",
         "hovertemplate": "Brand=%{x}<br>Average % Error=%{y}<extra></extra>",
         "legendgroup": "Subaru",
         "marker": {
          "color": "#FF97FF",
          "pattern": {
           "shape": ""
          }
         },
         "name": "Subaru",
         "offsetgroup": "Subaru",
         "orientation": "v",
         "showlegend": true,
         "textposition": "auto",
         "type": "bar",
         "x": [
          "Subaru"
         ],
         "xaxis": "x",
         "y": [
          6.595238607886284
         ],
         "yaxis": "y"
        },
        {
         "alignmentgroup": "True",
         "hovertemplate": "Brand=%{x}<br>Average % Error=%{y}<extra></extra>",
         "legendgroup": "INFINITI",
         "marker": {
          "color": "#FECB52",
          "pattern": {
           "shape": ""
          }
         },
         "name": "INFINITI",
         "offsetgroup": "INFINITI",
         "orientation": "v",
         "showlegend": true,
         "textposition": "auto",
         "type": "bar",
         "x": [
          "INFINITI"
         ],
         "xaxis": "x",
         "y": [
          6.861184717199863
         ],
         "yaxis": "y"
        },
        {
         "alignmentgroup": "True",
         "hovertemplate": "Brand=%{x}<br>Average % Error=%{y}<extra></extra>",
         "legendgroup": "Maserati",
         "marker": {
          "color": "#636efa",
          "pattern": {
           "shape": ""
          }
         },
         "name": "Maserati",
         "offsetgroup": "Maserati",
         "orientation": "v",
         "showlegend": true,
         "textposition": "auto",
         "type": "bar",
         "x": [
          "Maserati"
         ],
         "xaxis": "x",
         "y": [
          7.791997664916813
         ],
         "yaxis": "y"
        },
        {
         "alignmentgroup": "True",
         "hovertemplate": "Brand=%{x}<br>Average % Error=%{y}<extra></extra>",
         "legendgroup": "Land",
         "marker": {
          "color": "#EF553B",
          "pattern": {
           "shape": ""
          }
         },
         "name": "Land",
         "offsetgroup": "Land",
         "orientation": "v",
         "showlegend": true,
         "textposition": "auto",
         "type": "bar",
         "x": [
          "Land"
         ],
         "xaxis": "x",
         "y": [
          8.53058371598131
         ],
         "yaxis": "y"
        },
        {
         "alignmentgroup": "True",
         "hovertemplate": "Brand=%{x}<br>Average % Error=%{y}<extra></extra>",
         "legendgroup": "Bentley",
         "marker": {
          "color": "#00cc96",
          "pattern": {
           "shape": ""
          }
         },
         "name": "Bentley",
         "offsetgroup": "Bentley",
         "orientation": "v",
         "showlegend": true,
         "textposition": "auto",
         "type": "bar",
         "x": [
          "Bentley"
         ],
         "xaxis": "x",
         "y": [
          9.7503852208207
         ],
         "yaxis": "y"
        },
        {
         "alignmentgroup": "True",
         "hovertemplate": "Brand=%{x}<br>Average % Error=%{y}<extra></extra>",
         "legendgroup": "Volkswagen",
         "marker": {
          "color": "#ab63fa",
          "pattern": {
           "shape": ""
          }
         },
         "name": "Volkswagen",
         "offsetgroup": "Volkswagen",
         "orientation": "v",
         "showlegend": true,
         "textposition": "auto",
         "type": "bar",
         "x": [
          "Volkswagen"
         ],
         "xaxis": "x",
         "y": [
          10.45919231678663
         ],
         "yaxis": "y"
        },
        {
         "alignmentgroup": "True",
         "hovertemplate": "Brand=%{x}<br>Average % Error=%{y}<extra></extra>",
         "legendgroup": "Pontiac",
         "marker": {
          "color": "#FFA15A",
          "pattern": {
           "shape": ""
          }
         },
         "name": "Pontiac",
         "offsetgroup": "Pontiac",
         "orientation": "v",
         "showlegend": true,
         "textposition": "auto",
         "type": "bar",
         "x": [
          "Pontiac"
         ],
         "xaxis": "x",
         "y": [
          13.049858060093436
         ],
         "yaxis": "y"
        },
        {
         "alignmentgroup": "True",
         "hovertemplate": "Brand=%{x}<br>Average % Error=%{y}<extra></extra>",
         "legendgroup": "Toyota",
         "marker": {
          "color": "#19d3f3",
          "pattern": {
           "shape": ""
          }
         },
         "name": "Toyota",
         "offsetgroup": "Toyota",
         "orientation": "v",
         "showlegend": true,
         "textposition": "auto",
         "type": "bar",
         "x": [
          "Toyota"
         ],
         "xaxis": "x",
         "y": [
          13.357000465667793
         ],
         "yaxis": "y"
        },
        {
         "alignmentgroup": "True",
         "hovertemplate": "Brand=%{x}<br>Average % Error=%{y}<extra></extra>",
         "legendgroup": "Alfa",
         "marker": {
          "color": "#FF6692",
          "pattern": {
           "shape": ""
          }
         },
         "name": "Alfa",
         "offsetgroup": "Alfa",
         "orientation": "v",
         "showlegend": true,
         "textposition": "auto",
         "type": "bar",
         "x": [
          "Alfa"
         ],
         "xaxis": "x",
         "y": [
          14.413910687232452
         ],
         "yaxis": "y"
        },
        {
         "alignmentgroup": "True",
         "hovertemplate": "Brand=%{x}<br>Average % Error=%{y}<extra></extra>",
         "legendgroup": "Honda",
         "marker": {
          "color": "#B6E880",
          "pattern": {
           "shape": ""
          }
         },
         "name": "Honda",
         "offsetgroup": "Honda",
         "orientation": "v",
         "showlegend": true,
         "textposition": "auto",
         "type": "bar",
         "x": [
          "Honda"
         ],
         "xaxis": "x",
         "y": [
          15.137646970771218
         ],
         "yaxis": "y"
        },
        {
         "alignmentgroup": "True",
         "hovertemplate": "Brand=%{x}<br>Average % Error=%{y}<extra></extra>",
         "legendgroup": "FIAT",
         "marker": {
          "color": "#FF97FF",
          "pattern": {
           "shape": ""
          }
         },
         "name": "FIAT",
         "offsetgroup": "FIAT",
         "orientation": "v",
         "showlegend": true,
         "textposition": "auto",
         "type": "bar",
         "x": [
          "FIAT"
         ],
         "xaxis": "x",
         "y": [
          17.572618080191436
         ],
         "yaxis": "y"
        },
        {
         "alignmentgroup": "True",
         "hovertemplate": "Brand=%{x}<br>Average % Error=%{y}<extra></extra>",
         "legendgroup": "Hummer",
         "marker": {
          "color": "#FECB52",
          "pattern": {
           "shape": ""
          }
         },
         "name": "Hummer",
         "offsetgroup": "Hummer",
         "orientation": "v",
         "showlegend": true,
         "textposition": "auto",
         "type": "bar",
         "x": [
          "Hummer"
         ],
         "xaxis": "x",
         "y": [
          33.6686674964374
         ],
         "yaxis": "y"
        }
       ],
       "layout": {
        "barmode": "relative",
        "legend": {
         "title": {
          "text": "Brand"
         },
         "tracegroupgap": 0
        },
        "showlegend": false,
        "template": {
         "data": {
          "bar": [
           {
            "error_x": {
             "color": "#2a3f5f"
            },
            "error_y": {
             "color": "#2a3f5f"
            },
            "marker": {
             "line": {
              "color": "#E5ECF6",
              "width": 0.5
             },
             "pattern": {
              "fillmode": "overlay",
              "size": 10,
              "solidity": 0.2
             }
            },
            "type": "bar"
           }
          ],
          "barpolar": [
           {
            "marker": {
             "line": {
              "color": "#E5ECF6",
              "width": 0.5
             },
             "pattern": {
              "fillmode": "overlay",
              "size": 10,
              "solidity": 0.2
             }
            },
            "type": "barpolar"
           }
          ],
          "carpet": [
           {
            "aaxis": {
             "endlinecolor": "#2a3f5f",
             "gridcolor": "white",
             "linecolor": "white",
             "minorgridcolor": "white",
             "startlinecolor": "#2a3f5f"
            },
            "baxis": {
             "endlinecolor": "#2a3f5f",
             "gridcolor": "white",
             "linecolor": "white",
             "minorgridcolor": "white",
             "startlinecolor": "#2a3f5f"
            },
            "type": "carpet"
           }
          ],
          "choropleth": [
           {
            "colorbar": {
             "outlinewidth": 0,
             "ticks": ""
            },
            "type": "choropleth"
           }
          ],
          "contour": [
           {
            "colorbar": {
             "outlinewidth": 0,
             "ticks": ""
            },
            "colorscale": [
             [
              0,
              "#0d0887"
             ],
             [
              0.1111111111111111,
              "#46039f"
             ],
             [
              0.2222222222222222,
              "#7201a8"
             ],
             [
              0.3333333333333333,
              "#9c179e"
             ],
             [
              0.4444444444444444,
              "#bd3786"
             ],
             [
              0.5555555555555556,
              "#d8576b"
             ],
             [
              0.6666666666666666,
              "#ed7953"
             ],
             [
              0.7777777777777778,
              "#fb9f3a"
             ],
             [
              0.8888888888888888,
              "#fdca26"
             ],
             [
              1,
              "#f0f921"
             ]
            ],
            "type": "contour"
           }
          ],
          "contourcarpet": [
           {
            "colorbar": {
             "outlinewidth": 0,
             "ticks": ""
            },
            "type": "contourcarpet"
           }
          ],
          "heatmap": [
           {
            "colorbar": {
             "outlinewidth": 0,
             "ticks": ""
            },
            "colorscale": [
             [
              0,
              "#0d0887"
             ],
             [
              0.1111111111111111,
              "#46039f"
             ],
             [
              0.2222222222222222,
              "#7201a8"
             ],
             [
              0.3333333333333333,
              "#9c179e"
             ],
             [
              0.4444444444444444,
              "#bd3786"
             ],
             [
              0.5555555555555556,
              "#d8576b"
             ],
             [
              0.6666666666666666,
              "#ed7953"
             ],
             [
              0.7777777777777778,
              "#fb9f3a"
             ],
             [
              0.8888888888888888,
              "#fdca26"
             ],
             [
              1,
              "#f0f921"
             ]
            ],
            "type": "heatmap"
           }
          ],
          "heatmapgl": [
           {
            "colorbar": {
             "outlinewidth": 0,
             "ticks": ""
            },
            "colorscale": [
             [
              0,
              "#0d0887"
             ],
             [
              0.1111111111111111,
              "#46039f"
             ],
             [
              0.2222222222222222,
              "#7201a8"
             ],
             [
              0.3333333333333333,
              "#9c179e"
             ],
             [
              0.4444444444444444,
              "#bd3786"
             ],
             [
              0.5555555555555556,
              "#d8576b"
             ],
             [
              0.6666666666666666,
              "#ed7953"
             ],
             [
              0.7777777777777778,
              "#fb9f3a"
             ],
             [
              0.8888888888888888,
              "#fdca26"
             ],
             [
              1,
              "#f0f921"
             ]
            ],
            "type": "heatmapgl"
           }
          ],
          "histogram": [
           {
            "marker": {
             "pattern": {
              "fillmode": "overlay",
              "size": 10,
              "solidity": 0.2
             }
            },
            "type": "histogram"
           }
          ],
          "histogram2d": [
           {
            "colorbar": {
             "outlinewidth": 0,
             "ticks": ""
            },
            "colorscale": [
             [
              0,
              "#0d0887"
             ],
             [
              0.1111111111111111,
              "#46039f"
             ],
             [
              0.2222222222222222,
              "#7201a8"
             ],
             [
              0.3333333333333333,
              "#9c179e"
             ],
             [
              0.4444444444444444,
              "#bd3786"
             ],
             [
              0.5555555555555556,
              "#d8576b"
             ],
             [
              0.6666666666666666,
              "#ed7953"
             ],
             [
              0.7777777777777778,
              "#fb9f3a"
             ],
             [
              0.8888888888888888,
              "#fdca26"
             ],
             [
              1,
              "#f0f921"
             ]
            ],
            "type": "histogram2d"
           }
          ],
          "histogram2dcontour": [
           {
            "colorbar": {
             "outlinewidth": 0,
             "ticks": ""
            },
            "colorscale": [
             [
              0,
              "#0d0887"
             ],
             [
              0.1111111111111111,
              "#46039f"
             ],
             [
              0.2222222222222222,
              "#7201a8"
             ],
             [
              0.3333333333333333,
              "#9c179e"
             ],
             [
              0.4444444444444444,
              "#bd3786"
             ],
             [
              0.5555555555555556,
              "#d8576b"
             ],
             [
              0.6666666666666666,
              "#ed7953"
             ],
             [
              0.7777777777777778,
              "#fb9f3a"
             ],
             [
              0.8888888888888888,
              "#fdca26"
             ],
             [
              1,
              "#f0f921"
             ]
            ],
            "type": "histogram2dcontour"
           }
          ],
          "mesh3d": [
           {
            "colorbar": {
             "outlinewidth": 0,
             "ticks": ""
            },
            "type": "mesh3d"
           }
          ],
          "parcoords": [
           {
            "line": {
             "colorbar": {
              "outlinewidth": 0,
              "ticks": ""
             }
            },
            "type": "parcoords"
           }
          ],
          "pie": [
           {
            "automargin": true,
            "type": "pie"
           }
          ],
          "scatter": [
           {
            "fillpattern": {
             "fillmode": "overlay",
             "size": 10,
             "solidity": 0.2
            },
            "type": "scatter"
           }
          ],
          "scatter3d": [
           {
            "line": {
             "colorbar": {
              "outlinewidth": 0,
              "ticks": ""
             }
            },
            "marker": {
             "colorbar": {
              "outlinewidth": 0,
              "ticks": ""
             }
            },
            "type": "scatter3d"
           }
          ],
          "scattercarpet": [
           {
            "marker": {
             "colorbar": {
              "outlinewidth": 0,
              "ticks": ""
             }
            },
            "type": "scattercarpet"
           }
          ],
          "scattergeo": [
           {
            "marker": {
             "colorbar": {
              "outlinewidth": 0,
              "ticks": ""
             }
            },
            "type": "scattergeo"
           }
          ],
          "scattergl": [
           {
            "marker": {
             "colorbar": {
              "outlinewidth": 0,
              "ticks": ""
             }
            },
            "type": "scattergl"
           }
          ],
          "scattermapbox": [
           {
            "marker": {
             "colorbar": {
              "outlinewidth": 0,
              "ticks": ""
             }
            },
            "type": "scattermapbox"
           }
          ],
          "scatterpolar": [
           {
            "marker": {
             "colorbar": {
              "outlinewidth": 0,
              "ticks": ""
             }
            },
            "type": "scatterpolar"
           }
          ],
          "scatterpolargl": [
           {
            "marker": {
             "colorbar": {
              "outlinewidth": 0,
              "ticks": ""
             }
            },
            "type": "scatterpolargl"
           }
          ],
          "scatterternary": [
           {
            "marker": {
             "colorbar": {
              "outlinewidth": 0,
              "ticks": ""
             }
            },
            "type": "scatterternary"
           }
          ],
          "surface": [
           {
            "colorbar": {
             "outlinewidth": 0,
             "ticks": ""
            },
            "colorscale": [
             [
              0,
              "#0d0887"
             ],
             [
              0.1111111111111111,
              "#46039f"
             ],
             [
              0.2222222222222222,
              "#7201a8"
             ],
             [
              0.3333333333333333,
              "#9c179e"
             ],
             [
              0.4444444444444444,
              "#bd3786"
             ],
             [
              0.5555555555555556,
              "#d8576b"
             ],
             [
              0.6666666666666666,
              "#ed7953"
             ],
             [
              0.7777777777777778,
              "#fb9f3a"
             ],
             [
              0.8888888888888888,
              "#fdca26"
             ],
             [
              1,
              "#f0f921"
             ]
            ],
            "type": "surface"
           }
          ],
          "table": [
           {
            "cells": {
             "fill": {
              "color": "#EBF0F8"
             },
             "line": {
              "color": "white"
             }
            },
            "header": {
             "fill": {
              "color": "#C8D4E3"
             },
             "line": {
              "color": "white"
             }
            },
            "type": "table"
           }
          ]
         },
         "layout": {
          "annotationdefaults": {
           "arrowcolor": "#2a3f5f",
           "arrowhead": 0,
           "arrowwidth": 1
          },
          "autotypenumbers": "strict",
          "coloraxis": {
           "colorbar": {
            "outlinewidth": 0,
            "ticks": ""
           }
          },
          "colorscale": {
           "diverging": [
            [
             0,
             "#8e0152"
            ],
            [
             0.1,
             "#c51b7d"
            ],
            [
             0.2,
             "#de77ae"
            ],
            [
             0.3,
             "#f1b6da"
            ],
            [
             0.4,
             "#fde0ef"
            ],
            [
             0.5,
             "#f7f7f7"
            ],
            [
             0.6,
             "#e6f5d0"
            ],
            [
             0.7,
             "#b8e186"
            ],
            [
             0.8,
             "#7fbc41"
            ],
            [
             0.9,
             "#4d9221"
            ],
            [
             1,
             "#276419"
            ]
           ],
           "sequential": [
            [
             0,
             "#0d0887"
            ],
            [
             0.1111111111111111,
             "#46039f"
            ],
            [
             0.2222222222222222,
             "#7201a8"
            ],
            [
             0.3333333333333333,
             "#9c179e"
            ],
            [
             0.4444444444444444,
             "#bd3786"
            ],
            [
             0.5555555555555556,
             "#d8576b"
            ],
            [
             0.6666666666666666,
             "#ed7953"
            ],
            [
             0.7777777777777778,
             "#fb9f3a"
            ],
            [
             0.8888888888888888,
             "#fdca26"
            ],
            [
             1,
             "#f0f921"
            ]
           ],
           "sequentialminus": [
            [
             0,
             "#0d0887"
            ],
            [
             0.1111111111111111,
             "#46039f"
            ],
            [
             0.2222222222222222,
             "#7201a8"
            ],
            [
             0.3333333333333333,
             "#9c179e"
            ],
            [
             0.4444444444444444,
             "#bd3786"
            ],
            [
             0.5555555555555556,
             "#d8576b"
            ],
            [
             0.6666666666666666,
             "#ed7953"
            ],
            [
             0.7777777777777778,
             "#fb9f3a"
            ],
            [
             0.8888888888888888,
             "#fdca26"
            ],
            [
             1,
             "#f0f921"
            ]
           ]
          },
          "colorway": [
           "#636efa",
           "#EF553B",
           "#00cc96",
           "#ab63fa",
           "#FFA15A",
           "#19d3f3",
           "#FF6692",
           "#B6E880",
           "#FF97FF",
           "#FECB52"
          ],
          "font": {
           "color": "#2a3f5f"
          },
          "geo": {
           "bgcolor": "white",
           "lakecolor": "white",
           "landcolor": "#E5ECF6",
           "showlakes": true,
           "showland": true,
           "subunitcolor": "white"
          },
          "hoverlabel": {
           "align": "left"
          },
          "hovermode": "closest",
          "mapbox": {
           "style": "light"
          },
          "paper_bgcolor": "white",
          "plot_bgcolor": "#E5ECF6",
          "polar": {
           "angularaxis": {
            "gridcolor": "white",
            "linecolor": "white",
            "ticks": ""
           },
           "bgcolor": "#E5ECF6",
           "radialaxis": {
            "gridcolor": "white",
            "linecolor": "white",
            "ticks": ""
           }
          },
          "scene": {
           "xaxis": {
            "backgroundcolor": "#E5ECF6",
            "gridcolor": "white",
            "gridwidth": 2,
            "linecolor": "white",
            "showbackground": true,
            "ticks": "",
            "zerolinecolor": "white"
           },
           "yaxis": {
            "backgroundcolor": "#E5ECF6",
            "gridcolor": "white",
            "gridwidth": 2,
            "linecolor": "white",
            "showbackground": true,
            "ticks": "",
            "zerolinecolor": "white"
           },
           "zaxis": {
            "backgroundcolor": "#E5ECF6",
            "gridcolor": "white",
            "gridwidth": 2,
            "linecolor": "white",
            "showbackground": true,
            "ticks": "",
            "zerolinecolor": "white"
           }
          },
          "shapedefaults": {
           "line": {
            "color": "#2a3f5f"
           }
          },
          "ternary": {
           "aaxis": {
            "gridcolor": "white",
            "linecolor": "white",
            "ticks": ""
           },
           "baxis": {
            "gridcolor": "white",
            "linecolor": "white",
            "ticks": ""
           },
           "bgcolor": "#E5ECF6",
           "caxis": {
            "gridcolor": "white",
            "linecolor": "white",
            "ticks": ""
           }
          },
          "title": {
           "x": 0.05
          },
          "xaxis": {
           "automargin": true,
           "gridcolor": "white",
           "linecolor": "white",
           "ticks": "",
           "title": {
            "standoff": 15
           },
           "zerolinecolor": "white",
           "zerolinewidth": 2
          },
          "yaxis": {
           "automargin": true,
           "gridcolor": "white",
           "linecolor": "white",
           "ticks": "",
           "title": {
            "standoff": 15
           },
           "zerolinecolor": "white",
           "zerolinewidth": 2
          }
         }
        },
        "title": {
         "text": "Average Percent Error by Brand"
        },
        "xaxis": {
         "anchor": "y",
         "categoryarray": [
          "Rolls-Royce",
          "Saab",
          "Chrysler",
          "Lotus",
          "Scion",
          "Dodge",
          "Buick",
          "Maybach",
          "Genesis",
          "Hyundai",
          "Rivian",
          "Jeep",
          "Tesla",
          "Chevrolet",
          "Acura",
          "Ferrari",
          "Mitsubishi",
          "Mercedes-Benz",
          "Aston",
          "Ford",
          "Saturn",
          "Volvo",
          "Lexus",
          "smart",
          "Audi",
          "MINI",
          "Lamborghini",
          "Porsche",
          "Jaguar",
          "GMC",
          "BMW",
          "Mazda",
          "Cadillac",
          "RAM",
          "Karma",
          "Kia",
          "Nissan",
          "Lincoln",
          "Subaru",
          "INFINITI",
          "Maserati",
          "Land",
          "Bentley",
          "Volkswagen",
          "Pontiac",
          "Toyota",
          "Alfa",
          "Honda",
          "FIAT",
          "Hummer"
         ],
         "categoryorder": "array",
         "domain": [
          0,
          1
         ],
         "tickangle": -45,
         "title": {
          "text": "Brand"
         }
        },
        "yaxis": {
         "anchor": "x",
         "domain": [
          0,
          1
         ],
         "title": {
          "text": "Average % Error"
         }
        }
       }
      }
     },
     "metadata": {},
     "output_type": "display_data"
    }
   ],
   "source": [
    "import plotly.express as px\n",
    "\n",
    "# Ensure brand column exists in X_test_copy\n",
    "X_test_copy['brand'] = df.loc[X_test_copy.index, 'brand']\n",
    "\n",
    "# 1. Compute percentage error\n",
    "X_test_copy['pct_error'] = ((X_test_copy['predicted_price'] - X_test_copy['actual_price']) / X_test_copy['actual_price']) * 100\n",
    "\n",
    "# 2. Compute average percent error per brand\n",
    "avg_pct_error_df = X_test_copy.groupby('brand', as_index=False)['pct_error'].mean()\n",
    "avg_pct_error_df.rename(columns={'pct_error': 'Avg % Error'}, inplace=True)\n",
    "\n",
    "# 3. Sort by average percent error\n",
    "avg_pct_error_df = avg_pct_error_df.sort_values(by='Avg % Error')\n",
    "\n",
    "# 4. Plot\n",
    "fig = px.bar(\n",
    "    avg_pct_error_df,\n",
    "    x='brand',\n",
    "    y='Avg % Error',\n",
    "    color='brand',\n",
    "    title='Average Percent Error by Brand',\n",
    "    labels={'Avg % Error': 'Average % Error', 'brand': 'Brand'},\n",
    ")\n",
    "fig.update_layout(xaxis_tickangle=-45, showlegend=False)\n",
    "fig.show()\n"
   ]
  },
  {
   "cell_type": "code",
   "execution_count": null,
   "metadata": {},
   "outputs": [],
   "source": []
  }
 ],
 "metadata": {
  "kernelspec": {
   "display_name": "Python 3",
   "language": "python",
   "name": "python3"
  },
  "language_info": {
   "codemirror_mode": {
    "name": "ipython",
    "version": 3
   },
   "file_extension": ".py",
   "mimetype": "text/x-python",
   "name": "python",
   "nbconvert_exporter": "python",
   "pygments_lexer": "ipython3",
   "version": "3.11.9"
  }
 },
 "nbformat": 4,
 "nbformat_minor": 2
}
